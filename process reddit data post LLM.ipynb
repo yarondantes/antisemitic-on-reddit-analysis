{
 "cells": [
  {
   "cell_type": "code",
   "execution_count": 1,
   "id": "9e11ab56",
   "metadata": {},
   "outputs": [
    {
     "data": {
      "text/plain": [
       "True"
      ]
     },
     "execution_count": 1,
     "metadata": {},
     "output_type": "execute_result"
    }
   ],
   "source": [
    "from dotenv import load_dotenv\n",
    "import os\n",
    "load_dotenv()\n",
    "# %env"
   ]
  },
  {
   "cell_type": "code",
   "execution_count": 2,
   "id": "7e6d2adc",
   "metadata": {},
   "outputs": [],
   "source": [
    "import praw\n",
    "\n",
    "reddit = praw.Reddit(client_id = os.environ['CLIENT_ID'],\n",
    "                     client_secret = os.environ['SECRET_KEY'],\n",
    "                     username = os.environ[\"REDDIT_USERNAME\"],\n",
    "                     password = os.environ[\"USER_PASSWORD\"],\n",
    "                     user_agent = 'Windows:MyAPI/0.0.1 (by AdMost7569)')"
   ]
  },
  {
   "cell_type": "markdown",
   "id": "27555069",
   "metadata": {},
   "source": [
    "at first, i downloaded posts and submissions of the given sub-reddit, but than i realized, that i can not download history\n",
    "submission, so i neglected that path, and downloaded the data, as a dataset, via:\n",
    "https://academictorrents.com/details/9a3f77cf1b16f064b8f82e75ee8d470b49c90512"
   ]
  },
  {
   "cell_type": "markdown",
   "id": "1c3d0241",
   "metadata": {},
   "source": [
    "## read zst downloaded files"
   ]
  },
  {
   "cell_type": "markdown",
   "id": "82c9b7ea",
   "metadata": {},
   "source": [
    "### load submissions"
   ]
  },
  {
   "cell_type": "code",
   "execution_count": 1,
   "id": "7e6b3f09",
   "metadata": {},
   "outputs": [],
   "source": [
    "import zstandard as zstd\n",
    "import pandas as pd\n",
    "\n",
    "submissions_file = r\"C:\\Users\\yaron\\projects\\BGU - data mining\\project\\IsraelPalestine\\IsraelPalestine_submissions\\IsraelPalestine_submissions\"\n",
    "\n",
    "df = pd.read_json(submissions_file, lines=True)\n",
    "df_posts = df[['name','title','selftext','author','created_utc','score','upvote_ratio','subreddit_id','num_comments']]\n",
    "df_posts.columns = [\"submission_id\", \"submission_title\", \"submission_text\", \"submission_author\",\"submission_timestamp\",\"submission_score\",\"upvote_ration\",\n",
    "                                     \"subreddit_id\", \"num_comments\"]\n",
    "# df_posts\n"
   ]
  },
  {
   "cell_type": "code",
   "execution_count": 9,
   "id": "07c44f0e",
   "metadata": {},
   "outputs": [
    {
     "data": {
      "text/plain": [
       "(7853, (7853, 9))"
      ]
     },
     "execution_count": 9,
     "metadata": {},
     "output_type": "execute_result"
    }
   ],
   "source": [
    "df_posts.submission_id.nunique(), df_posts.shape"
   ]
  },
  {
   "cell_type": "markdown",
   "id": "bcef0604",
   "metadata": {},
   "source": [
    "### load comments"
   ]
  },
  {
   "cell_type": "code",
   "execution_count": 62,
   "id": "c383707c",
   "metadata": {},
   "outputs": [
    {
     "data": {
      "text/html": [
       "<div>\n",
       "<style scoped>\n",
       "    .dataframe tbody tr th:only-of-type {\n",
       "        vertical-align: middle;\n",
       "    }\n",
       "\n",
       "    .dataframe tbody tr th {\n",
       "        vertical-align: top;\n",
       "    }\n",
       "\n",
       "    .dataframe thead th {\n",
       "        text-align: right;\n",
       "    }\n",
       "</style>\n",
       "<table border=\"1\" class=\"dataframe\">\n",
       "  <thead>\n",
       "    <tr style=\"text-align: right;\">\n",
       "      <th></th>\n",
       "      <th>comment_text</th>\n",
       "      <th>comment_author</th>\n",
       "      <th>comment_timestamp</th>\n",
       "      <th>comment_score</th>\n",
       "      <th>subrredit_id</th>\n",
       "      <th>comment_id</th>\n",
       "      <th>to_comment</th>\n",
       "      <th>submission_id</th>\n",
       "    </tr>\n",
       "  </thead>\n",
       "  <tbody>\n",
       "    <tr>\n",
       "      <th>0</th>\n",
       "      <td>&gt;But it's the third comment I write to you whi...</td>\n",
       "      <td>Islamist-Analyst</td>\n",
       "      <td>1696118627</td>\n",
       "      <td>1</td>\n",
       "      <td>t5_2sgz7</td>\n",
       "      <td>t1_k2xmnwc</td>\n",
       "      <td>t1_k2wt9rn</td>\n",
       "      <td>t3_16w3rfn</td>\n",
       "    </tr>\n",
       "    <tr>\n",
       "      <th>1</th>\n",
       "      <td>evening temporary been real quiet since this c...</td>\n",
       "      <td>cadmiumflowers</td>\n",
       "      <td>1696118690</td>\n",
       "      <td>1</td>\n",
       "      <td>t5_2sgz7</td>\n",
       "      <td>t1_k2xmsxd</td>\n",
       "      <td>t1_k2x2mba</td>\n",
       "      <td>t3_16vgm2t</td>\n",
       "    </tr>\n",
       "  </tbody>\n",
       "</table>\n",
       "</div>"
      ],
      "text/plain": [
       "                                        comment_text    comment_author  \\\n",
       "0  >But it's the third comment I write to you whi...  Islamist-Analyst   \n",
       "1  evening temporary been real quiet since this c...    cadmiumflowers   \n",
       "\n",
       "   comment_timestamp  comment_score subrredit_id  comment_id  to_comment  \\\n",
       "0         1696118627              1     t5_2sgz7  t1_k2xmnwc  t1_k2wt9rn   \n",
       "1         1696118690              1     t5_2sgz7  t1_k2xmsxd  t1_k2x2mba   \n",
       "\n",
       "  submission_id  \n",
       "0    t3_16w3rfn  \n",
       "1    t3_16vgm2t  "
      ]
     },
     "execution_count": 62,
     "metadata": {},
     "output_type": "execute_result"
    }
   ],
   "source": [
    "comments_file = r\"C:\\Users\\yaron\\projects\\BGU - data mining\\project\\IsraelPalestine\\IsraelPalestine_comments\\IsraelPalestine_comments\"\n",
    "\n",
    "df = pd.read_json(comments_file, lines=True)\n",
    "list(df.columns)\n",
    "df_comments = df[['body','author','created_utc','score','subreddit_id','name','parent_id','link_id']]\n",
    "df_comments.columns = [\"comment_text\", \"comment_author\", \"comment_timestamp\", \"comment_score\",\n",
    "                                      \"subrredit_id\", \"comment_id\", \"to_comment\",'submission_id']\n",
    "df_comments.head(2)\n",
    "df_comments_short = df_comments[:10000]\n",
    "df_comments_short.head(2)"
   ]
  },
  {
   "cell_type": "code",
   "execution_count": 101,
   "id": "8c909c5f",
   "metadata": {},
   "outputs": [
    {
     "data": {
      "text/plain": [
       "True"
      ]
     },
     "execution_count": 101,
     "metadata": {},
     "output_type": "execute_result"
    }
   ],
   "source": [
    "df_posts.head(2)"
   ]
  },
  {
   "cell_type": "code",
   "execution_count": 105,
   "id": "02588f42",
   "metadata": {},
   "outputs": [
    {
     "data": {
      "text/plain": [
       "(325413, 74)"
      ]
     },
     "execution_count": 105,
     "metadata": {},
     "output_type": "execute_result"
    }
   ],
   "source": [
    "df.shape"
   ]
  },
  {
   "cell_type": "markdown",
   "id": "92d03054",
   "metadata": {},
   "source": [
    "### create A table - first level comments  to posts"
   ]
  },
  {
   "cell_type": "code",
   "execution_count": 120,
   "id": "adc199f3",
   "metadata": {},
   "outputs": [],
   "source": [
    "df_A = df_comments.merge(df_posts, left_on='to_comment', right_on='submission_id')\n",
    "df_A.head(2)\n",
    "df_A = df_A[['submission_id_x', 'submission_title', 'submission_text','submission_author',\\\n",
    "             'comment_id', 'comment_text','comment_author','comment_timestamp']]\n",
    "df_A.columns = ['submission_id', 'submission_title', 'submission_text','submission_author',\\\n",
    "             'comment_id', 'comment_text','comment_author','comment_timestamp']"
   ]
  },
  {
   "cell_type": "markdown",
   "id": "33213556",
   "metadata": {},
   "source": [
    "### create B table - comments to comments (post text is additional information)"
   ]
  },
  {
   "cell_type": "code",
   "execution_count": 109,
   "id": "2eaa88f6",
   "metadata": {},
   "outputs": [],
   "source": [
    "df_B = pd.merge(df_comments, df_comments[['comment_id','comment_text','comment_author']],\\\n",
    "         left_on='to_comment', right_on='comment_id')\n",
    "df_B = df_B.merge(df_posts[['submission_id', 'submission_title', 'submission_text']], on='submission_id')\n",
    "df_B = df_B[['submission_id', 'submission_title', 'submission_text', 'comment_id_x','comment_text_x','comment_author_x',\\\n",
    "            'to_comment', 'comment_text_y','comment_author_y','comment_timestamp']] "
   ]
  },
  {
   "cell_type": "code",
   "execution_count": 110,
   "id": "f595da7e",
   "metadata": {},
   "outputs": [
    {
     "data": {
      "text/plain": [
       "(265369, 10)"
      ]
     },
     "execution_count": 110,
     "metadata": {},
     "output_type": "execute_result"
    }
   ],
   "source": [
    "df_B.shape"
   ]
  },
  {
   "cell_type": "code",
   "execution_count": 125,
   "id": "b3b71f96",
   "metadata": {},
   "outputs": [],
   "source": [
    "def text_length(text):\n",
    "    return len(text.split()) "
   ]
  },
  {
   "cell_type": "markdown",
   "id": "5b54d8a0",
   "metadata": {},
   "source": [
    "### pre-process - remove comments, that are too short..."
   ]
  },
  {
   "cell_type": "code",
   "execution_count": 145,
   "id": "9e93a0bc",
   "metadata": {},
   "outputs": [],
   "source": [
    "mininmum_comment_size_in_words = 10"
   ]
  },
  {
   "cell_type": "code",
   "execution_count": 126,
   "id": "9f1fb1f0",
   "metadata": {},
   "outputs": [],
   "source": [
    "for text in ['submission_text', 'comment_text_x', 'comment_text_y']:\n",
    "    name = 'len_' + text\n",
    "    df_B[name] = df_B[text].apply(text_length)"
   ]
  },
  {
   "cell_type": "code",
   "execution_count": 144,
   "id": "eefd4e43",
   "metadata": {},
   "outputs": [],
   "source": [
    "df_B_filtered = df_B.loc[(df_B.len_submission_text>mininmum_comment_size_in_words) \\\n",
    "                         & (df_B.len_comment_text_x > mininmum_comment_size_in_words) \\\n",
    "                         & (df_B.len_comment_text_y > mininmum_comment_size_in_words)]"
   ]
  },
  {
   "cell_type": "code",
   "execution_count": 147,
   "id": "224409ad",
   "metadata": {},
   "outputs": [],
   "source": [
    "for text in ['submission_text', 'comment_text']:\n",
    "    name = 'len_' + text\n",
    "    df_A[name] = df_A[text].apply(text_length)"
   ]
  },
  {
   "cell_type": "code",
   "execution_count": 148,
   "id": "cf703a0d",
   "metadata": {},
   "outputs": [],
   "source": [
    "df_A_filtered = df_A.loc[(df_A.len_submission_text>mininmum_comment_size_in_words) \\\n",
    "                         & (df_A.len_comment_text > mininmum_comment_size_in_words)]"
   ]
  },
  {
   "cell_type": "markdown",
   "id": "c50fd55a",
   "metadata": {},
   "source": [
    "# work with data post llm - export data for llm processing"
   ]
  },
  {
   "cell_type": "code",
   "execution_count": 150,
   "id": "868e1acd",
   "metadata": {},
   "outputs": [],
   "source": [
    "import pickle \n",
    "with open(\"df_A_filtered.pickle\", 'wb') as f:\n",
    "    pickle.dump(df_A_filtered, f)\n",
    "    \n",
    "with open(\"df_B_filtered.pickle\", 'wb') as f:\n",
    "    pickle.dump(df_B_filtered, f)\n",
    "    \n",
    "import pickle \n",
    "with open(\"df_posts.pickle\", \"wb\") as f:\n",
    "    pickle.dump(df_posts, f)"
   ]
  },
  {
   "cell_type": "markdown",
   "id": "50b9c482",
   "metadata": {},
   "source": [
    "at this point, i moved to another notebook for working with the llm and embedding. at the end of that notebook, i re-loaded the results to this notebook and continued "
   ]
  },
  {
   "cell_type": "markdown",
   "id": "2a983d77",
   "metadata": {},
   "source": [
    "# import the llm answers and combine them to current data"
   ]
  },
  {
   "cell_type": "code",
   "execution_count": 298,
   "id": "9a0e9a74",
   "metadata": {},
   "outputs": [],
   "source": [
    "import pickle \n",
    "\n",
    "with open(\"A_features.pickle\", 'rb') as f:\n",
    "    A_features = pickle.load(f)\n",
    "\n",
    "with open(\"B_features.pickle\", 'rb') as f:\n",
    "    B_features = pickle.load(f)\n",
    "    \n",
    "with open(\"posts_features_from_posts_features.pickle\", \"rb\") as f:\n",
    "    posts_features_from_posts_features = pickle.load(f)\n",
    "    \n",
    "with open(\"df_A_filtered.pickle\", 'rb') as f:\n",
    "    df_A = pickle.load(f)\n",
    "\n",
    "with open(\"df_B_filtered.pickle\", 'rb') as f:\n",
    "    df_B = pickle.load(f)\n",
    "    \n",
    "with open(\"df_posts.pickle\", 'rb') as f:\n",
    "    df_posts = pickle.load(f)\n",
    "    \n"
   ]
  },
  {
   "cell_type": "markdown",
   "id": "731d324d",
   "metadata": {},
   "source": [
    "#### convert timestamp from unix to datetime"
   ]
  },
  {
   "cell_type": "code",
   "execution_count": 299,
   "id": "62efe3ba",
   "metadata": {},
   "outputs": [],
   "source": [
    "from datetime import datetime\n",
    "df_A['comment_timestamp'] = df_A['comment_timestamp'].apply(datetime.fromtimestamp)\n",
    "df_B['comment_timestamp'] = df_B['comment_timestamp'].apply(datetime.fromtimestamp)\n",
    "df_posts['submission_timestamp'] = df_posts['submission_timestamp'].apply(datetime.fromtimestamp) "
   ]
  },
  {
   "cell_type": "code",
   "execution_count": null,
   "id": "691af209",
   "metadata": {},
   "outputs": [],
   "source": []
  },
  {
   "cell_type": "markdown",
   "id": "f6df2ce8",
   "metadata": {},
   "source": [
    "### join antisemetism features to the text"
   ]
  },
  {
   "cell_type": "markdown",
   "id": "01236a7f",
   "metadata": {},
   "source": [
    "#### posts"
   ]
  },
  {
   "cell_type": "code",
   "execution_count": 300,
   "id": "a4ada706",
   "metadata": {},
   "outputs": [
    {
     "data": {
      "text/html": [
       "<div>\n",
       "<style scoped>\n",
       "    .dataframe tbody tr th:only-of-type {\n",
       "        vertical-align: middle;\n",
       "    }\n",
       "\n",
       "    .dataframe tbody tr th {\n",
       "        vertical-align: top;\n",
       "    }\n",
       "\n",
       "    .dataframe thead th {\n",
       "        text-align: right;\n",
       "    }\n",
       "</style>\n",
       "<table border=\"1\" class=\"dataframe\">\n",
       "  <thead>\n",
       "    <tr style=\"text-align: right;\">\n",
       "      <th></th>\n",
       "      <th>submission_id</th>\n",
       "      <th>submission_title</th>\n",
       "      <th>submission_text</th>\n",
       "      <th>submission_author</th>\n",
       "      <th>submission_timestamp</th>\n",
       "      <th>submission_score</th>\n",
       "      <th>upvote_ration</th>\n",
       "      <th>subreddit_id</th>\n",
       "      <th>num_comments</th>\n",
       "      <th>vectors</th>\n",
       "      <th>features</th>\n",
       "    </tr>\n",
       "  </thead>\n",
       "  <tbody>\n",
       "    <tr>\n",
       "      <th>0</th>\n",
       "      <td>t3_16wuocg</td>\n",
       "      <td>Need help gathering info regarding the conflict.</td>\n",
       "      <td>My school is conducting an MUN (Model United N...</td>\n",
       "      <td>Moon_Knight_69</td>\n",
       "      <td>2023-10-01 10:28:02</td>\n",
       "      <td>1</td>\n",
       "      <td>1.0</td>\n",
       "      <td>t5_2sgz7</td>\n",
       "      <td>53</td>\n",
       "      <td>[-0.006348003633320332, -0.0027542905882000923...</td>\n",
       "      <td>{'promote or endorse harmful stereotypes about...</td>\n",
       "    </tr>\n",
       "  </tbody>\n",
       "</table>\n",
       "</div>"
      ],
      "text/plain": [
       "  submission_id                                  submission_title  \\\n",
       "0    t3_16wuocg  Need help gathering info regarding the conflict.   \n",
       "\n",
       "                                     submission_text submission_author  \\\n",
       "0  My school is conducting an MUN (Model United N...    Moon_Knight_69   \n",
       "\n",
       "  submission_timestamp  submission_score  upvote_ration subreddit_id  \\\n",
       "0  2023-10-01 10:28:02                 1            1.0     t5_2sgz7   \n",
       "\n",
       "   num_comments                                            vectors  \\\n",
       "0            53  [-0.006348003633320332, -0.0027542905882000923...   \n",
       "\n",
       "                                            features  \n",
       "0  {'promote or endorse harmful stereotypes about...  "
      ]
     },
     "execution_count": 300,
     "metadata": {},
     "output_type": "execute_result"
    }
   ],
   "source": [
    "import pandas as pd\n",
    "posts_features_df = pd.DataFrame(posts_features_from_posts_features, columns = ['submission_id', 'features'])\n",
    "df_posts = df_posts.merge(posts_features_df, on='submission_id')\n",
    "df_posts.head(1)"
   ]
  },
  {
   "cell_type": "markdown",
   "id": "5a351386",
   "metadata": {},
   "source": [
    "#### comments to posts (A)"
   ]
  },
  {
   "cell_type": "code",
   "execution_count": 301,
   "id": "aba7ceb8",
   "metadata": {},
   "outputs": [
    {
     "data": {
      "text/html": [
       "<div>\n",
       "<style scoped>\n",
       "    .dataframe tbody tr th:only-of-type {\n",
       "        vertical-align: middle;\n",
       "    }\n",
       "\n",
       "    .dataframe tbody tr th {\n",
       "        vertical-align: top;\n",
       "    }\n",
       "\n",
       "    .dataframe thead th {\n",
       "        text-align: right;\n",
       "    }\n",
       "</style>\n",
       "<table border=\"1\" class=\"dataframe\">\n",
       "  <thead>\n",
       "    <tr style=\"text-align: right;\">\n",
       "      <th></th>\n",
       "      <th>submission_id</th>\n",
       "      <th>submission_title</th>\n",
       "      <th>submission_text</th>\n",
       "      <th>submission_author</th>\n",
       "      <th>comment_id</th>\n",
       "      <th>comment_text</th>\n",
       "      <th>comment_author</th>\n",
       "      <th>comment_timestamp</th>\n",
       "      <th>len_submission_text</th>\n",
       "      <th>len_comment_text</th>\n",
       "      <th>features</th>\n",
       "    </tr>\n",
       "  </thead>\n",
       "  <tbody>\n",
       "    <tr>\n",
       "      <th>1</th>\n",
       "      <td>t3_16wvusf</td>\n",
       "      <td>Neturei Karta did all the thinking for me</td>\n",
       "      <td>I was extremely brainwashed about 10 years ago...</td>\n",
       "      <td>Old_Calligrapher1563</td>\n",
       "      <td>t1_k2z6w0g</td>\n",
       "      <td>&gt;I know most jews absolutely despise them but ...</td>\n",
       "      <td>pinchasthegris</td>\n",
       "      <td>2023-10-01 11:59:08</td>\n",
       "      <td>162</td>\n",
       "      <td>37</td>\n",
       "      <td>{'promote or endorse harmful stereotypes about...</td>\n",
       "    </tr>\n",
       "  </tbody>\n",
       "</table>\n",
       "</div>"
      ],
      "text/plain": [
       "  submission_id                           submission_title  \\\n",
       "1    t3_16wvusf  Neturei Karta did all the thinking for me   \n",
       "\n",
       "                                     submission_text     submission_author  \\\n",
       "1  I was extremely brainwashed about 10 years ago...  Old_Calligrapher1563   \n",
       "\n",
       "   comment_id                                       comment_text  \\\n",
       "1  t1_k2z6w0g  >I know most jews absolutely despise them but ...   \n",
       "\n",
       "   comment_author   comment_timestamp  len_submission_text  len_comment_text  \\\n",
       "1  pinchasthegris 2023-10-01 11:59:08                  162                37   \n",
       "\n",
       "                                            features  \n",
       "1  {'promote or endorse harmful stereotypes about...  "
      ]
     },
     "execution_count": 301,
     "metadata": {},
     "output_type": "execute_result"
    }
   ],
   "source": [
    "df_A['features'] = A_features \n",
    "df_A.head(1)"
   ]
  },
  {
   "cell_type": "markdown",
   "id": "f2917ecb",
   "metadata": {},
   "source": [
    "#### comments to comments (B)"
   ]
  },
  {
   "cell_type": "code",
   "execution_count": 302,
   "id": "e01f79b7",
   "metadata": {},
   "outputs": [
    {
     "data": {
      "text/html": [
       "<div>\n",
       "<style scoped>\n",
       "    .dataframe tbody tr th:only-of-type {\n",
       "        vertical-align: middle;\n",
       "    }\n",
       "\n",
       "    .dataframe tbody tr th {\n",
       "        vertical-align: top;\n",
       "    }\n",
       "\n",
       "    .dataframe thead th {\n",
       "        text-align: right;\n",
       "    }\n",
       "</style>\n",
       "<table border=\"1\" class=\"dataframe\">\n",
       "  <thead>\n",
       "    <tr style=\"text-align: right;\">\n",
       "      <th></th>\n",
       "      <th>submission_id</th>\n",
       "      <th>submission_title</th>\n",
       "      <th>submission_text</th>\n",
       "      <th>comment_id_x</th>\n",
       "      <th>comment_text_x</th>\n",
       "      <th>comment_author_x</th>\n",
       "      <th>to_comment</th>\n",
       "      <th>comment_text_y</th>\n",
       "      <th>comment_author_y</th>\n",
       "      <th>comment_timestamp</th>\n",
       "      <th>len_submission_text</th>\n",
       "      <th>len_comment_text_x</th>\n",
       "      <th>len_comment_text_y</th>\n",
       "      <th>index</th>\n",
       "      <th>features</th>\n",
       "    </tr>\n",
       "  </thead>\n",
       "  <tbody>\n",
       "    <tr>\n",
       "      <th>0</th>\n",
       "      <td>t3_16wvusf</td>\n",
       "      <td>Neturei Karta did all the thinking for me</td>\n",
       "      <td>I was extremely brainwashed about 10 years ago...</td>\n",
       "      <td>t1_k2z76q7</td>\n",
       "      <td>I guess I'd use those two words somewhat inter...</td>\n",
       "      <td>Old_Calligrapher1563</td>\n",
       "      <td>t1_k2z6w0g</td>\n",
       "      <td>&gt;I know most jews absolutely despise them but ...</td>\n",
       "      <td>pinchasthegris</td>\n",
       "      <td>2023-10-01 12:03:02</td>\n",
       "      <td>162</td>\n",
       "      <td>24</td>\n",
       "      <td>37</td>\n",
       "      <td>0</td>\n",
       "      <td>{'promote or endorse harmful stereotypes about...</td>\n",
       "    </tr>\n",
       "  </tbody>\n",
       "</table>\n",
       "</div>"
      ],
      "text/plain": [
       "  submission_id                           submission_title  \\\n",
       "0    t3_16wvusf  Neturei Karta did all the thinking for me   \n",
       "\n",
       "                                     submission_text comment_id_x  \\\n",
       "0  I was extremely brainwashed about 10 years ago...   t1_k2z76q7   \n",
       "\n",
       "                                      comment_text_x      comment_author_x  \\\n",
       "0  I guess I'd use those two words somewhat inter...  Old_Calligrapher1563   \n",
       "\n",
       "   to_comment                                     comment_text_y  \\\n",
       "0  t1_k2z6w0g  >I know most jews absolutely despise them but ...   \n",
       "\n",
       "  comment_author_y   comment_timestamp  len_submission_text  \\\n",
       "0   pinchasthegris 2023-10-01 12:03:02                  162   \n",
       "\n",
       "   len_comment_text_x  len_comment_text_y  index  \\\n",
       "0                  24                  37      0   \n",
       "\n",
       "                                            features  \n",
       "0  {'promote or endorse harmful stereotypes about...  "
      ]
     },
     "execution_count": 302,
     "metadata": {},
     "output_type": "execute_result"
    }
   ],
   "source": [
    "df_B.shape\n",
    "B_features_df = pd.DataFrame(B_features, columns = ['index','comment_id_x', 'features'])\n",
    "df_B = df_B.merge(B_features_df, on='comment_id_x')\n",
    "df_B.head(1)"
   ]
  },
  {
   "cell_type": "markdown",
   "id": "02b0a437",
   "metadata": {},
   "source": [
    "### exclude adminstrators users"
   ]
  },
  {
   "cell_type": "code",
   "execution_count": 303,
   "id": "3d9f6746",
   "metadata": {},
   "outputs": [],
   "source": [
    "admin_users = [\"IsraelPalestine-ModTeam\", \"AutoModerator\",\"IsraelPalestine-Mods\"]\n",
    "df_A = df_A[~df_A['comment_author'].isin(admin_users)]\n",
    "df_B = df_B[~df_B['comment_author_x'].isin(admin_users)]\n",
    "df_posts = df_posts[~df_posts['submission_author'].isin(admin_users)]"
   ]
  },
  {
   "cell_type": "markdown",
   "id": "e47a172f",
   "metadata": {},
   "source": [
    "### explode questions to columns"
   ]
  },
  {
   "cell_type": "code",
   "execution_count": 304,
   "id": "6f1168fa",
   "metadata": {},
   "outputs": [],
   "source": [
    "df_A.dropna(inplace=True)\n",
    "for key in df_A['features'].iloc[0].keys():\n",
    "    df_A[key] = df_A['features'].apply(lambda x: x[key])\n",
    "\n",
    "df_B.dropna(inplace=True)\n",
    "for key in df_B['features'].iloc[0].keys():\n",
    "    df_B[key] = df_B['features'].apply(lambda x: x[key])\n",
    "    \n",
    "df_posts.dropna(inplace=True)\n",
    "for key in df_posts['features'].iloc[0].keys():\n",
    "    df_posts[key] = df_posts['features'].apply(lambda x: x[key])"
   ]
  },
  {
   "cell_type": "markdown",
   "id": "aaba4eb2",
   "metadata": {},
   "source": [
    "### calc sum of antisemitism"
   ]
  },
  {
   "cell_type": "code",
   "execution_count": 305,
   "id": "adaa5ef7",
   "metadata": {},
   "outputs": [],
   "source": [
    "df_posts['sum_of_antisemitism'] = df_posts.iloc[:,-10:].apply(lambda x: sum(x), axis=1)\n",
    "\n",
    "df_A['sum_of_antisemitism'] = df_A.iloc[:,-10:].apply(lambda x: sum(x), axis=1)\n",
    "\n",
    "df_B['sum_of_antisemitism'] = df_B.iloc[:,-10:].apply(lambda x: sum(x), axis=1)"
   ]
  },
  {
   "cell_type": "markdown",
   "id": "f8a433ec",
   "metadata": {},
   "source": [
    "### add embedding data \n",
    "calculated in the working with llm and embedding notebook"
   ]
  },
  {
   "cell_type": "code",
   "execution_count": 306,
   "id": "28c2989e",
   "metadata": {},
   "outputs": [],
   "source": [
    "with open('vectors_Av3.pickle', 'rb') as f:\n",
    "    vectors_A = pickle.load(f)\n",
    "    \n",
    "with open('vectors_Bv4.pickle', 'rb') as f:\n",
    "    vectors_B = pickle.load(f)"
   ]
  },
  {
   "cell_type": "code",
   "execution_count": 307,
   "id": "8d829cce",
   "metadata": {},
   "outputs": [
    {
     "data": {
      "text/plain": [
       "(42518, 23)"
      ]
     },
     "execution_count": 307,
     "metadata": {},
     "output_type": "execute_result"
    }
   ],
   "source": [
    "vectors_A_df = pd.DataFrame(vectors_A, columns = ['comment_id', 'vectors'])\n",
    "df_A = df_A.merge(vectors_A_df, on='comment_id')\n",
    "df_A.shape"
   ]
  },
  {
   "cell_type": "code",
   "execution_count": 308,
   "id": "805b672f",
   "metadata": {},
   "outputs": [
    {
     "data": {
      "text/plain": [
       "(174157, 27)"
      ]
     },
     "execution_count": 308,
     "metadata": {},
     "output_type": "execute_result"
    }
   ],
   "source": [
    "vectors_B_df = pd.DataFrame(vectors_B, columns = ['comment_id_x', 'vectors'])\n",
    "df_B = df_B.merge(right = vectors_B_df, how='left', on='comment_id_x')\n",
    "df_B.shape"
   ]
  },
  {
   "cell_type": "markdown",
   "id": "93514215",
   "metadata": {},
   "source": [
    "### prepare a joint dataframe with all submission, comments. with embedding, dates and sum of anti"
   ]
  },
  {
   "cell_type": "code",
   "execution_count": 309,
   "id": "ce8f73ee",
   "metadata": {},
   "outputs": [
    {
     "name": "stdout",
     "output_type": "stream",
     "text": [
      "(224476, 3)\n"
     ]
    }
   ],
   "source": [
    "posts = df_posts[['submission_id','sum_of_antisemitism','submission_timestamp']]\n",
    "posts.columns = ['id','sum_of_antisemitism','timestamp']\n",
    "\n",
    "A = df_A[['comment_id','sum_of_antisemitism','comment_timestamp']]\n",
    "A.columns = ['id','sum_of_antisemitism','timestamp']\n",
    "\n",
    "B = df_B[['comment_id_x','sum_of_antisemitism','comment_timestamp']].dropna()\n",
    "B.columns = ['id','sum_of_antisemitism','timestamp']\n",
    "\n",
    "df_embbeded_stacked = pd.concat([posts,A,B])\n",
    "print(df_embbeded_stacked.shape)\n",
    "\n",
    "with open('df_all_texts_with_antisemitism_timestamps.pickle', 'wb') as f:\n",
    "    pickle.dump(df_embbeded_stacked, f)"
   ]
  },
  {
   "cell_type": "code",
   "execution_count": 10,
   "id": "a55db09c",
   "metadata": {},
   "outputs": [],
   "source": [
    "with open('df_all_texts_with_antisemitism_timestamps.pickle', 'rb') as f:\n",
    "    df_embbeded_stacked = pickle.load(f)"
   ]
  },
  {
   "cell_type": "code",
   "execution_count": null,
   "id": "49f770da",
   "metadata": {},
   "outputs": [],
   "source": []
  },
  {
   "cell_type": "markdown",
   "id": "10fb042b",
   "metadata": {},
   "source": [
    "# extract nodes ( as users)"
   ]
  },
  {
   "cell_type": "code",
   "execution_count": 310,
   "id": "74f4ff12",
   "metadata": {},
   "outputs": [
    {
     "name": "stdout",
     "output_type": "stream",
     "text": [
      "submissioners - 4603 commenters 20714 union - 22440\n"
     ]
    }
   ],
   "source": [
    "submissioners = set(df_posts.submission_author.values)\n",
    "commenters = set(df_A.comment_author.values).union(set(df_B.comment_author_x.values))\n",
    "print(f'submissioners - {len(submissioners)} commenters {len(commenters)} union - {len(submissioners.union(commenters))}')"
   ]
  },
  {
   "cell_type": "code",
   "execution_count": 311,
   "id": "842b137d",
   "metadata": {},
   "outputs": [],
   "source": [
    "users = set(submissioners).union(commenters)"
   ]
  },
  {
   "cell_type": "markdown",
   "id": "86a73173",
   "metadata": {},
   "source": [
    "### define features for users to determine antisemetism charachter"
   ]
  },
  {
   "cell_type": "code",
   "execution_count": 313,
   "id": "05791d35",
   "metadata": {},
   "outputs": [],
   "source": [
    "import pandas as pd\n",
    "import numpy as np\n",
    "def calculate_num_of_posts(df_posts: pd.DataFrame,\n",
    "                           df_A: pd.DataFrame,\n",
    "                           df_B: pd.DataFrame,\n",
    "                           column_posts: str,\n",
    "                           column_A: str,\n",
    "                           column_B: str,\n",
    "                           user: str):\n",
    "\n",
    "    num_of_posts = df_posts[df_posts[column_posts] == user].shape[0]\n",
    "    num_of_comments = df_A[df_A[column_A] == user].shape[0] + df_B[df_B[column_B] == user].shape[0]\n",
    "\n",
    "    return num_of_posts + num_of_comments\n",
    "\n",
    "\n",
    "def calculate_num_antisemetic_comments(df_posts: pd.DataFrame,\n",
    "                           df_A: pd.DataFrame,\n",
    "                           df_B: pd.DataFrame,\n",
    "                           column_posts: str,\n",
    "                           column_A: str,\n",
    "                           column_B: str,\n",
    "                           user: str):\n",
    "    num_of_antisemetic_posts = sum(df_posts[df_posts[column_posts] == user].sum_of_antisemitism > 0)\n",
    "    num_of_antisemetic_comments = sum(df_A[df_A[column_A] == user].sum_of_antisemitism > 0) + \\\n",
    "                                  sum(df_B[df_B[column_B] == user].sum_of_antisemitism > 0)\n",
    "\n",
    "    return num_of_antisemetic_posts + num_of_antisemetic_comments\n",
    "\n",
    "\n",
    "\n",
    "def calculate_max_strength_antisemitism(df_posts: pd.DataFrame,\n",
    "                           df_A: pd.DataFrame,\n",
    "                           df_B: pd.DataFrame,\n",
    "                           column_posts: str,\n",
    "                           column_A: str,\n",
    "                           column_B: str,\n",
    "                           user: str):\n",
    "    \n",
    "    max_post = np.max(df_posts[df_posts[column_posts] == user].sum_of_antisemitism.values,initial = 0)\n",
    "    max_A = np.max(df_A[df_A[column_A] == user].sum_of_antisemitism.values,initial = 0)\n",
    "    max_B = np.max(df_B[df_B[column_B] == user].sum_of_antisemitism.values,initial = 0)\n",
    "    \n",
    "    return np.max([max_post,max_A,max_B])\n",
    "\n",
    "def calculate_sum__antisemitism(df_posts: pd.DataFrame,\n",
    "                           df_A: pd.DataFrame,\n",
    "                           df_B: pd.DataFrame,\n",
    "                           column_posts: str,\n",
    "                           column_A: str,\n",
    "                           column_B: str,\n",
    "                           user: str):\n",
    "    \n",
    "    sum_post = np.sum(df_posts[df_posts[column_posts] == user].sum_of_antisemitism.values)\n",
    "    sum_A = np.sum(df_A[df_A[column_A] == user].sum_of_antisemitism.values)\n",
    "    sum_B = np.sum(df_B[df_B[column_B] == user].sum_of_antisemitism.values)\n",
    "    \n",
    "    return np.sum([sum_post,sum_A,sum_B])"
   ]
  },
  {
   "cell_type": "markdown",
   "id": "01b0f5d3",
   "metadata": {},
   "source": [
    "### calculate features values for nodes (users)"
   ]
  },
  {
   "cell_type": "code",
   "execution_count": 315,
   "id": "fdf48952",
   "metadata": {},
   "outputs": [],
   "source": [
    "df_users = pd.DataFrame(pd.Series(list(users)), columns=['users'])\n",
    "df_users['num_of_posts_or_comments'] = df_users['users'].apply(lambda x: calculate_num_of_posts(df_posts,\n",
    "                                                        df_A,\n",
    "                                                        df_B,\n",
    "                                                        'submission_author',\n",
    "                                                        'comment_author',\n",
    "                                                        'comment_author_x',\n",
    "                                                         x))\n",
    "df_users['num_antisemetic_comments'] = df_users['users'].apply(lambda x: calculate_num_antisemetic_comments(df_posts,\n",
    "                                                        df_A,\n",
    "                                                        df_B,\n",
    "                                                        'submission_author',\n",
    "                                                        'comment_author',\n",
    "                                                        'comment_author_x',\n",
    "                                                         x))\n",
    "df_users['max_streanght_antisemitism'] = df_users['users'].apply(lambda x: calculate_max_strength_antisemitism(df_posts,\n",
    "                                                        df_A,\n",
    "                                                        df_B,\n",
    "                                                        'submission_author',\n",
    "                                                        'comment_author',\n",
    "                                                        'comment_author_x',\n",
    "                                                         x))\n",
    "\n",
    "df_users['sum_antisemitism'] = df_users['users'].apply(lambda x: calculate_sum__antisemitism(df_posts,\n",
    "                                                        df_A,\n",
    "                                                        df_B,\n",
    "                                                        'submission_author',\n",
    "                                                        'comment_author',\n",
    "                                                        'comment_author_x',\n",
    "                                                         x))\n",
    "\n",
    "df_users['mean_strength_antisemitism'] = df_users['sum_antisemitism'] / df_users['num_of_posts_or_comments']"
   ]
  },
  {
   "cell_type": "markdown",
   "id": "7923f2f9",
   "metadata": {},
   "source": [
    "### add timestamp aspect into users (first appear)"
   ]
  },
  {
   "cell_type": "code",
   "execution_count": 351,
   "id": "cba59fa9",
   "metadata": {},
   "outputs": [
    {
     "data": {
      "text/html": [
       "<div>\n",
       "<style scoped>\n",
       "    .dataframe tbody tr th:only-of-type {\n",
       "        vertical-align: middle;\n",
       "    }\n",
       "\n",
       "    .dataframe tbody tr th {\n",
       "        vertical-align: top;\n",
       "    }\n",
       "\n",
       "    .dataframe thead th {\n",
       "        text-align: right;\n",
       "    }\n",
       "</style>\n",
       "<table border=\"1\" class=\"dataframe\">\n",
       "  <thead>\n",
       "    <tr style=\"text-align: right;\">\n",
       "      <th></th>\n",
       "      <th>user_name</th>\n",
       "      <th>num_of_posts_or_comments</th>\n",
       "      <th>num_antisemetic_comments</th>\n",
       "      <th>max_streanght_antisemitism</th>\n",
       "      <th>sum_antisemitism</th>\n",
       "      <th>mean_strength_antisemitism</th>\n",
       "      <th>timestamp</th>\n",
       "    </tr>\n",
       "  </thead>\n",
       "  <tbody>\n",
       "    <tr>\n",
       "      <th>0</th>\n",
       "      <td>Inevitable_Drawer145</td>\n",
       "      <td>6</td>\n",
       "      <td>0</td>\n",
       "      <td>0</td>\n",
       "      <td>0</td>\n",
       "      <td>0.0</td>\n",
       "      <td>2023-10-15 04:12:25</td>\n",
       "    </tr>\n",
       "    <tr>\n",
       "      <th>1</th>\n",
       "      <td>Responsible_Ad6938</td>\n",
       "      <td>5</td>\n",
       "      <td>1</td>\n",
       "      <td>1</td>\n",
       "      <td>1</td>\n",
       "      <td>0.2</td>\n",
       "      <td>2023-10-23 17:00:20</td>\n",
       "    </tr>\n",
       "  </tbody>\n",
       "</table>\n",
       "</div>"
      ],
      "text/plain": [
       "              user_name  num_of_posts_or_comments  num_antisemetic_comments  \\\n",
       "0  Inevitable_Drawer145                         6                         0   \n",
       "1    Responsible_Ad6938                         5                         1   \n",
       "\n",
       "   max_streanght_antisemitism  sum_antisemitism  mean_strength_antisemitism  \\\n",
       "0                           0                 0                         0.0   \n",
       "1                           1                 1                         0.2   \n",
       "\n",
       "            timestamp  \n",
       "0 2023-10-15 04:12:25  \n",
       "1 2023-10-23 17:00:20  "
      ]
     },
     "execution_count": 351,
     "metadata": {},
     "output_type": "execute_result"
    }
   ],
   "source": [
    "# import numpy as np\n",
    "\n",
    "# # change column users to user_name\n",
    "df_users.columns = ['user_name', 'num_of_posts_or_comments', 'num_antisemetic_comments',\n",
    "       'max_streanght_antisemitism', 'sum_antisemitism',\n",
    "       'mean_strength_antisemitism','timestamp']\n",
    "\n",
    "\n",
    "\n",
    "posts = df_posts[['submission_author','submission_timestamp']]\n",
    "posts.columns = ['user_name','timestamp']\n",
    "\n",
    "A = df_A[['comment_author','comment_timestamp']]\n",
    "A.columns = ['user_name','timestamp']\n",
    "\n",
    "B = df_B[['comment_author_x','comment_timestamp']].dropna()\n",
    "B.columns = ['user_name','timestamp']\n",
    "\n",
    "df_users_stacked_with_timestamp = pd.concat([posts,A,B])\n",
    "print(df_users_stacked_with_timestamp.shape)\n",
    "\n",
    "df_users_stacked_with_timestamp = df_users_stacked_with_timestamp.sort_values(by='timestamp').groupby('user_name').first()\n",
    "df_users = df_users.merge(df_users_stacked_with_timestamp, how='left', on='user_name')\n",
    "\n",
    "df_users.head(2)"
   ]
  },
  {
   "cell_type": "code",
   "execution_count": 356,
   "id": "9a107c1e",
   "metadata": {},
   "outputs": [],
   "source": [
    "import pickle\n",
    "with open('df_users.pickle', 'wb') as f:\n",
    "    pickle.dump(df_users, f)"
   ]
  },
  {
   "cell_type": "code",
   "execution_count": 5,
   "id": "2121fe44",
   "metadata": {},
   "outputs": [],
   "source": [
    "import pickle\n",
    "with open('df_users.pickle', 'rb') as f:\n",
    "    df_users  = pickle.load(f)"
   ]
  },
  {
   "cell_type": "code",
   "execution_count": 317,
   "id": "0d99bd41",
   "metadata": {},
   "outputs": [
    {
     "data": {
      "text/html": [
       "<div>\n",
       "<style scoped>\n",
       "    .dataframe tbody tr th:only-of-type {\n",
       "        vertical-align: middle;\n",
       "    }\n",
       "\n",
       "    .dataframe tbody tr th {\n",
       "        vertical-align: top;\n",
       "    }\n",
       "\n",
       "    .dataframe thead th {\n",
       "        text-align: right;\n",
       "    }\n",
       "</style>\n",
       "<table border=\"1\" class=\"dataframe\">\n",
       "  <thead>\n",
       "    <tr style=\"text-align: right;\">\n",
       "      <th></th>\n",
       "      <th>users</th>\n",
       "      <th>num_of_posts_or_comments</th>\n",
       "      <th>num_antisemetic_comments</th>\n",
       "      <th>max_streanght_antisemitism</th>\n",
       "      <th>sum_antisemitism</th>\n",
       "      <th>mean_strength_antisemitism</th>\n",
       "    </tr>\n",
       "  </thead>\n",
       "  <tbody>\n",
       "    <tr>\n",
       "      <th>18580</th>\n",
       "      <td>JosephL_55</td>\n",
       "      <td>2024</td>\n",
       "      <td>67</td>\n",
       "      <td>10</td>\n",
       "      <td>135</td>\n",
       "      <td>0.066700</td>\n",
       "    </tr>\n",
       "    <tr>\n",
       "      <th>1302</th>\n",
       "      <td>pinchasthegris</td>\n",
       "      <td>1384</td>\n",
       "      <td>73</td>\n",
       "      <td>7</td>\n",
       "      <td>133</td>\n",
       "      <td>0.096098</td>\n",
       "    </tr>\n",
       "    <tr>\n",
       "      <th>18104</th>\n",
       "      <td>HistorianCertain3758</td>\n",
       "      <td>994</td>\n",
       "      <td>95</td>\n",
       "      <td>8</td>\n",
       "      <td>215</td>\n",
       "      <td>0.216298</td>\n",
       "    </tr>\n",
       "    <tr>\n",
       "      <th>7594</th>\n",
       "      <td>avbitran</td>\n",
       "      <td>969</td>\n",
       "      <td>43</td>\n",
       "      <td>7</td>\n",
       "      <td>84</td>\n",
       "      <td>0.086687</td>\n",
       "    </tr>\n",
       "    <tr>\n",
       "      <th>16837</th>\n",
       "      <td>JeffB1517</td>\n",
       "      <td>935</td>\n",
       "      <td>49</td>\n",
       "      <td>7</td>\n",
       "      <td>104</td>\n",
       "      <td>0.111230</td>\n",
       "    </tr>\n",
       "    <tr>\n",
       "      <th>...</th>\n",
       "      <td>...</td>\n",
       "      <td>...</td>\n",
       "      <td>...</td>\n",
       "      <td>...</td>\n",
       "      <td>...</td>\n",
       "      <td>...</td>\n",
       "    </tr>\n",
       "    <tr>\n",
       "      <th>8757</th>\n",
       "      <td>ImJustSomeGuyYouKnow</td>\n",
       "      <td>1</td>\n",
       "      <td>0</td>\n",
       "      <td>0</td>\n",
       "      <td>0</td>\n",
       "      <td>0.000000</td>\n",
       "    </tr>\n",
       "    <tr>\n",
       "      <th>15888</th>\n",
       "      <td>Impressive_Toe6080</td>\n",
       "      <td>1</td>\n",
       "      <td>0</td>\n",
       "      <td>0</td>\n",
       "      <td>0</td>\n",
       "      <td>0.000000</td>\n",
       "    </tr>\n",
       "    <tr>\n",
       "      <th>15890</th>\n",
       "      <td>Mayaru_san</td>\n",
       "      <td>1</td>\n",
       "      <td>1</td>\n",
       "      <td>7</td>\n",
       "      <td>7</td>\n",
       "      <td>7.000000</td>\n",
       "    </tr>\n",
       "    <tr>\n",
       "      <th>15891</th>\n",
       "      <td>ImportantBed9298</td>\n",
       "      <td>1</td>\n",
       "      <td>0</td>\n",
       "      <td>0</td>\n",
       "      <td>0</td>\n",
       "      <td>0.000000</td>\n",
       "    </tr>\n",
       "    <tr>\n",
       "      <th>12570</th>\n",
       "      <td>KpopMarxist</td>\n",
       "      <td>1</td>\n",
       "      <td>0</td>\n",
       "      <td>0</td>\n",
       "      <td>0</td>\n",
       "      <td>0.000000</td>\n",
       "    </tr>\n",
       "  </tbody>\n",
       "</table>\n",
       "<p>22440 rows × 6 columns</p>\n",
       "</div>"
      ],
      "text/plain": [
       "                      users  num_of_posts_or_comments  \\\n",
       "18580            JosephL_55                      2024   \n",
       "1302         pinchasthegris                      1384   \n",
       "18104  HistorianCertain3758                       994   \n",
       "7594               avbitran                       969   \n",
       "16837             JeffB1517                       935   \n",
       "...                     ...                       ...   \n",
       "8757   ImJustSomeGuyYouKnow                         1   \n",
       "15888    Impressive_Toe6080                         1   \n",
       "15890            Mayaru_san                         1   \n",
       "15891      ImportantBed9298                         1   \n",
       "12570           KpopMarxist                         1   \n",
       "\n",
       "       num_antisemetic_comments  max_streanght_antisemitism  sum_antisemitism  \\\n",
       "18580                        67                          10               135   \n",
       "1302                         73                           7               133   \n",
       "18104                        95                           8               215   \n",
       "7594                         43                           7                84   \n",
       "16837                        49                           7               104   \n",
       "...                         ...                         ...               ...   \n",
       "8757                          0                           0                 0   \n",
       "15888                         0                           0                 0   \n",
       "15890                         1                           7                 7   \n",
       "15891                         0                           0                 0   \n",
       "12570                         0                           0                 0   \n",
       "\n",
       "       mean_strength_antisemitism  \n",
       "18580                    0.066700  \n",
       "1302                     0.096098  \n",
       "18104                    0.216298  \n",
       "7594                     0.086687  \n",
       "16837                    0.111230  \n",
       "...                           ...  \n",
       "8757                     0.000000  \n",
       "15888                    0.000000  \n",
       "15890                    7.000000  \n",
       "15891                    0.000000  \n",
       "12570                    0.000000  \n",
       "\n",
       "[22440 rows x 6 columns]"
      ]
     },
     "execution_count": 317,
     "metadata": {},
     "output_type": "execute_result"
    }
   ],
   "source": [
    "df_users.sort_values(by='num_of_posts_or_comments', ascending=False)"
   ]
  },
  {
   "cell_type": "code",
   "execution_count": null,
   "id": "021485a2",
   "metadata": {},
   "outputs": [],
   "source": []
  },
  {
   "cell_type": "markdown",
   "id": "8d56d35f",
   "metadata": {},
   "source": [
    "# edges by connection between users"
   ]
  },
  {
   "cell_type": "code",
   "execution_count": 318,
   "id": "4c6a4048",
   "metadata": {},
   "outputs": [
    {
     "name": "stdout",
     "output_type": "stream",
     "text": [
      "edges from A 42518 \n",
      "edges from B 174157\n"
     ]
    }
   ],
   "source": [
    "edges_df_A = df_A[['comment_author','submission_author']]\n",
    "edges_df_A.columns = ['user_A','to_user_B']  \n",
    "edges_df_B = df_B[['comment_author_x','comment_author_y']]\n",
    "edges_df_B.columns = ['user_A','to_user_B']\n",
    "print(f'edges from A {edges_df_A.shape[0]} \\nedges from B {edges_df_B.shape[0]}')\n",
    "edges = pd.concat([edges_df_A, edges_df_B])"
   ]
  },
  {
   "cell_type": "code",
   "execution_count": 319,
   "id": "683cb85c",
   "metadata": {},
   "outputs": [
    {
     "data": {
      "text/html": [
       "<div>\n",
       "<style scoped>\n",
       "    .dataframe tbody tr th:only-of-type {\n",
       "        vertical-align: middle;\n",
       "    }\n",
       "\n",
       "    .dataframe tbody tr th {\n",
       "        vertical-align: top;\n",
       "    }\n",
       "\n",
       "    .dataframe thead th {\n",
       "        text-align: right;\n",
       "    }\n",
       "</style>\n",
       "<table border=\"1\" class=\"dataframe\">\n",
       "  <thead>\n",
       "    <tr style=\"text-align: right;\">\n",
       "      <th></th>\n",
       "      <th>user_A</th>\n",
       "      <th>to_user_B</th>\n",
       "      <th>size</th>\n",
       "    </tr>\n",
       "  </thead>\n",
       "  <tbody>\n",
       "    <tr>\n",
       "      <th>0</th>\n",
       "      <td>--Jimmy_Kudo--</td>\n",
       "      <td>Nyeteka</td>\n",
       "      <td>1</td>\n",
       "    </tr>\n",
       "    <tr>\n",
       "      <th>1</th>\n",
       "      <td>--Jimmy_Kudo--</td>\n",
       "      <td>coffeemedd</td>\n",
       "      <td>1</td>\n",
       "    </tr>\n",
       "  </tbody>\n",
       "</table>\n",
       "</div>"
      ],
      "text/plain": [
       "           user_A   to_user_B  size\n",
       "0  --Jimmy_Kudo--     Nyeteka     1\n",
       "1  --Jimmy_Kudo--  coffeemedd     1"
      ]
     },
     "execution_count": 319,
     "metadata": {},
     "output_type": "execute_result"
    }
   ],
   "source": [
    "edegs_with_strength = edges.groupby(['user_A','to_user_B'], as_index=False).size()\n",
    "edegs_with_strength.head(2)"
   ]
  },
  {
   "cell_type": "code",
   "execution_count": 320,
   "id": "7ab85d84",
   "metadata": {},
   "outputs": [],
   "source": [
    "with open('edegs_with_strength.pickle', 'wb') as f:\n",
    "    pickle.dump(edegs_with_strength, f)"
   ]
  },
  {
   "cell_type": "code",
   "execution_count": 3,
   "id": "7cdb040b",
   "metadata": {},
   "outputs": [],
   "source": [
    "with open('edegs_with_strength.pickle', 'rb') as f:\n",
    "    edegs_with_strength = pickle.load(f)"
   ]
  },
  {
   "cell_type": "markdown",
   "id": "04f73a1f",
   "metadata": {},
   "source": [
    "# extract nodes ( as comments)"
   ]
  },
  {
   "cell_type": "code",
   "execution_count": 239,
   "id": "0d1a0170",
   "metadata": {},
   "outputs": [
    {
     "data": {
      "text/plain": [
       "((19461, 3), (18650,))"
      ]
     },
     "execution_count": 239,
     "metadata": {},
     "output_type": "execute_result"
    }
   ],
   "source": [
    "import numpy as np\n",
    "\n",
    "posts = df_posts[df_posts['sum_of_antisemitism'] > 0][['submission_id','vectors','submission_timestamp']]\n",
    "posts.columns = ['id','vectors','timestamp']\n",
    "\n",
    "A = df_A[df_A['sum_of_antisemitism'] > 0][['comment_id','vectors','comment_timestamp']]\n",
    "A.columns = ['id','vectors','timestamp']\n",
    "\n",
    "B = df_B[df_B['sum_of_antisemitism'] > 0][['comment_id_x','vectors','comment_timestamp']].dropna()\n",
    "B.columns = ['id','vectors','timestamp']\n",
    "\n",
    "df_embbeded_stacked = pd.concat([posts,A,B])\n",
    "df_embbeded_stacked.shape, df_embbeded_stacked['id'].drop_duplicates().shape"
   ]
  },
  {
   "cell_type": "code",
   "execution_count": 189,
   "id": "217f88bb",
   "metadata": {},
   "outputs": [
    {
     "name": "stdout",
     "output_type": "stream",
     "text": [
      "           id           timestamp\n",
      "4  t3_16xsk8j 2023-10-02 12:59:31\n"
     ]
    }
   ],
   "source": [
    "nodes = df_embbeded_stacked[['id','timestamp']]\n",
    "print(nodes.head(1))\n",
    "\n",
    "with open('nodes_as_comments.pickle', 'wb') as f:\n",
    "    pickle.dump(nodes,f)"
   ]
  },
  {
   "cell_type": "markdown",
   "id": "5c09028a",
   "metadata": {},
   "source": [
    "# edges by content similarity"
   ]
  },
  {
   "cell_type": "markdown",
   "id": "585a29e8",
   "metadata": {},
   "source": [
    "### calculate distance matrix"
   ]
  },
  {
   "cell_type": "markdown",
   "id": "d5d63589",
   "metadata": {},
   "source": [
    "#### stack submissions and comments"
   ]
  },
  {
   "cell_type": "code",
   "execution_count": 190,
   "id": "e9d1145b",
   "metadata": {},
   "outputs": [
    {
     "data": {
      "text/plain": [
       "(19461, 768)"
      ]
     },
     "execution_count": 190,
     "metadata": {},
     "output_type": "execute_result"
    }
   ],
   "source": [
    "embedding_stacked = np.stack(df_embbeded_stacked['vectors'].apply(lambda x: np.array(x)).to_numpy())\n",
    "embedding_stacked.shape"
   ]
  },
  {
   "cell_type": "markdown",
   "id": "764d7f4d",
   "metadata": {},
   "source": [
    "### distance via pairwise distance"
   ]
  },
  {
   "cell_type": "code",
   "execution_count": 191,
   "id": "ce605827",
   "metadata": {},
   "outputs": [
    {
     "data": {
      "text/plain": [
       "(19461, 19461)"
      ]
     },
     "execution_count": 191,
     "metadata": {},
     "output_type": "execute_result"
    }
   ],
   "source": [
    "from sklearn.metrics import pairwise_distances\n",
    "\n",
    "distance_matrix = pairwise_distances(embedding_stacked)\n",
    "distance_matrix.shape"
   ]
  },
  {
   "cell_type": "markdown",
   "id": "936d2871",
   "metadata": {},
   "source": [
    "#### distance matrix to dataframe"
   ]
  },
  {
   "cell_type": "code",
   "execution_count": 192,
   "id": "0e77731f",
   "metadata": {},
   "outputs": [],
   "source": [
    "df_distances = pd.DataFrame(distance_matrix, index = df_embbeded_stacked.id, columns = df_embbeded_stacked.id)"
   ]
  },
  {
   "cell_type": "code",
   "execution_count": 193,
   "id": "5171f426",
   "metadata": {},
   "outputs": [
    {
     "data": {
      "text/html": [
       "<div>\n",
       "<style scoped>\n",
       "    .dataframe tbody tr th:only-of-type {\n",
       "        vertical-align: middle;\n",
       "    }\n",
       "\n",
       "    .dataframe tbody tr th {\n",
       "        vertical-align: top;\n",
       "    }\n",
       "\n",
       "    .dataframe thead th {\n",
       "        text-align: right;\n",
       "    }\n",
       "</style>\n",
       "<table border=\"1\" class=\"dataframe\">\n",
       "  <thead>\n",
       "    <tr style=\"text-align: right;\">\n",
       "      <th>id</th>\n",
       "      <th>t3_16xsk8j</th>\n",
       "      <th>t3_16xz9ex</th>\n",
       "      <th>t3_16zmeyr</th>\n",
       "      <th>t3_170s7w6</th>\n",
       "      <th>t3_1720x34</th>\n",
       "      <th>t3_1724t73</th>\n",
       "      <th>t3_1724v47</th>\n",
       "      <th>t3_1724wch</th>\n",
       "      <th>t3_1725s4a</th>\n",
       "      <th>t3_1726un1</th>\n",
       "      <th>...</th>\n",
       "      <th>t1_k7arigl</th>\n",
       "      <th>t1_k7ariqf</th>\n",
       "      <th>t1_k7arjhf</th>\n",
       "      <th>t1_k7arkx0</th>\n",
       "      <th>t1_k7arztp</th>\n",
       "      <th>t1_k7ashih</th>\n",
       "      <th>t1_k7ashj9</th>\n",
       "      <th>t1_k7asip5</th>\n",
       "      <th>t1_k7aspdt</th>\n",
       "      <th>t1_k7asubb</th>\n",
       "    </tr>\n",
       "    <tr>\n",
       "      <th>id</th>\n",
       "      <th></th>\n",
       "      <th></th>\n",
       "      <th></th>\n",
       "      <th></th>\n",
       "      <th></th>\n",
       "      <th></th>\n",
       "      <th></th>\n",
       "      <th></th>\n",
       "      <th></th>\n",
       "      <th></th>\n",
       "      <th></th>\n",
       "      <th></th>\n",
       "      <th></th>\n",
       "      <th></th>\n",
       "      <th></th>\n",
       "      <th></th>\n",
       "      <th></th>\n",
       "      <th></th>\n",
       "      <th></th>\n",
       "      <th></th>\n",
       "      <th></th>\n",
       "    </tr>\n",
       "  </thead>\n",
       "  <tbody>\n",
       "    <tr>\n",
       "      <th>t3_16xsk8j</th>\n",
       "      <td>0.000000</td>\n",
       "      <td>0.724973</td>\n",
       "      <td>0.666123</td>\n",
       "      <td>0.768902</td>\n",
       "      <td>0.945192</td>\n",
       "      <td>0.875764</td>\n",
       "      <td>0.905990</td>\n",
       "      <td>0.887277</td>\n",
       "      <td>0.922448</td>\n",
       "      <td>0.808523</td>\n",
       "      <td>...</td>\n",
       "      <td>0.810145</td>\n",
       "      <td>0.863365</td>\n",
       "      <td>0.753616</td>\n",
       "      <td>0.755882</td>\n",
       "      <td>0.836793</td>\n",
       "      <td>0.796787</td>\n",
       "      <td>0.889288</td>\n",
       "      <td>0.783263</td>\n",
       "      <td>0.820223</td>\n",
       "      <td>0.852142</td>\n",
       "    </tr>\n",
       "    <tr>\n",
       "      <th>t3_16xz9ex</th>\n",
       "      <td>0.724973</td>\n",
       "      <td>0.000000</td>\n",
       "      <td>0.759419</td>\n",
       "      <td>0.693710</td>\n",
       "      <td>0.964345</td>\n",
       "      <td>0.899444</td>\n",
       "      <td>0.897542</td>\n",
       "      <td>0.929970</td>\n",
       "      <td>0.908189</td>\n",
       "      <td>0.792150</td>\n",
       "      <td>...</td>\n",
       "      <td>0.874636</td>\n",
       "      <td>0.900126</td>\n",
       "      <td>0.784137</td>\n",
       "      <td>0.770415</td>\n",
       "      <td>0.845984</td>\n",
       "      <td>0.770426</td>\n",
       "      <td>0.855265</td>\n",
       "      <td>0.800440</td>\n",
       "      <td>0.791349</td>\n",
       "      <td>0.903488</td>\n",
       "    </tr>\n",
       "    <tr>\n",
       "      <th>t3_16zmeyr</th>\n",
       "      <td>0.666123</td>\n",
       "      <td>0.759419</td>\n",
       "      <td>0.000000</td>\n",
       "      <td>0.799624</td>\n",
       "      <td>0.928363</td>\n",
       "      <td>0.862442</td>\n",
       "      <td>0.873621</td>\n",
       "      <td>0.916755</td>\n",
       "      <td>0.913495</td>\n",
       "      <td>0.797587</td>\n",
       "      <td>...</td>\n",
       "      <td>0.867204</td>\n",
       "      <td>0.899245</td>\n",
       "      <td>0.787935</td>\n",
       "      <td>0.749086</td>\n",
       "      <td>0.871608</td>\n",
       "      <td>0.795774</td>\n",
       "      <td>0.885941</td>\n",
       "      <td>0.767488</td>\n",
       "      <td>0.813679</td>\n",
       "      <td>0.881101</td>\n",
       "    </tr>\n",
       "  </tbody>\n",
       "</table>\n",
       "<p>3 rows × 19461 columns</p>\n",
       "</div>"
      ],
      "text/plain": [
       "id          t3_16xsk8j  t3_16xz9ex  t3_16zmeyr  t3_170s7w6  t3_1720x34  \\\n",
       "id                                                                       \n",
       "t3_16xsk8j    0.000000    0.724973    0.666123    0.768902    0.945192   \n",
       "t3_16xz9ex    0.724973    0.000000    0.759419    0.693710    0.964345   \n",
       "t3_16zmeyr    0.666123    0.759419    0.000000    0.799624    0.928363   \n",
       "\n",
       "id          t3_1724t73  t3_1724v47  t3_1724wch  t3_1725s4a  t3_1726un1  ...  \\\n",
       "id                                                                      ...   \n",
       "t3_16xsk8j    0.875764    0.905990    0.887277    0.922448    0.808523  ...   \n",
       "t3_16xz9ex    0.899444    0.897542    0.929970    0.908189    0.792150  ...   \n",
       "t3_16zmeyr    0.862442    0.873621    0.916755    0.913495    0.797587  ...   \n",
       "\n",
       "id          t1_k7arigl  t1_k7ariqf  t1_k7arjhf  t1_k7arkx0  t1_k7arztp  \\\n",
       "id                                                                       \n",
       "t3_16xsk8j    0.810145    0.863365    0.753616    0.755882    0.836793   \n",
       "t3_16xz9ex    0.874636    0.900126    0.784137    0.770415    0.845984   \n",
       "t3_16zmeyr    0.867204    0.899245    0.787935    0.749086    0.871608   \n",
       "\n",
       "id          t1_k7ashih  t1_k7ashj9  t1_k7asip5  t1_k7aspdt  t1_k7asubb  \n",
       "id                                                                      \n",
       "t3_16xsk8j    0.796787    0.889288    0.783263    0.820223    0.852142  \n",
       "t3_16xz9ex    0.770426    0.855265    0.800440    0.791349    0.903488  \n",
       "t3_16zmeyr    0.795774    0.885941    0.767488    0.813679    0.881101  \n",
       "\n",
       "[3 rows x 19461 columns]"
      ]
     },
     "execution_count": 193,
     "metadata": {},
     "output_type": "execute_result"
    }
   ],
   "source": [
    "df_distances.head(3)"
   ]
  },
  {
   "cell_type": "markdown",
   "id": "d835d66d",
   "metadata": {},
   "source": [
    "#### distance dataframe to pairs distance (pre-process for edges of the content similarity graph)"
   ]
  },
  {
   "cell_type": "code",
   "execution_count": 194,
   "id": "1a13c5e6",
   "metadata": {},
   "outputs": [],
   "source": [
    "pairs = []\n",
    "for i in range(len(df_distances)):\n",
    "    for j in range(i + 1, len(df_distances)):\n",
    "        pairs.append((df_distances.index[i], df_distances.index[j], df_distances.iloc[i, j]))\n",
    "all_pairs_by_and_distance = pd.DataFrame(pairs, columns=['id1', 'id2', 'distance'])"
   ]
  },
  {
   "cell_type": "code",
   "execution_count": 195,
   "id": "8f7040d8",
   "metadata": {},
   "outputs": [
    {
     "data": {
      "text/plain": [
       "(189355530, 3)"
      ]
     },
     "execution_count": 195,
     "metadata": {},
     "output_type": "execute_result"
    }
   ],
   "source": [
    "all_pairs_by_and_distance.shape"
   ]
  },
  {
   "cell_type": "code",
   "execution_count": 196,
   "id": "c31d0505",
   "metadata": {},
   "outputs": [
    {
     "data": {
      "text/html": [
       "<div>\n",
       "<style scoped>\n",
       "    .dataframe tbody tr th:only-of-type {\n",
       "        vertical-align: middle;\n",
       "    }\n",
       "\n",
       "    .dataframe tbody tr th {\n",
       "        vertical-align: top;\n",
       "    }\n",
       "\n",
       "    .dataframe thead th {\n",
       "        text-align: right;\n",
       "    }\n",
       "</style>\n",
       "<table border=\"1\" class=\"dataframe\">\n",
       "  <thead>\n",
       "    <tr style=\"text-align: right;\">\n",
       "      <th></th>\n",
       "      <th>id1</th>\n",
       "      <th>id2</th>\n",
       "      <th>distance</th>\n",
       "    </tr>\n",
       "  </thead>\n",
       "  <tbody>\n",
       "    <tr>\n",
       "      <th>0</th>\n",
       "      <td>t3_16xsk8j</td>\n",
       "      <td>t3_16xz9ex</td>\n",
       "      <td>0.724973</td>\n",
       "    </tr>\n",
       "    <tr>\n",
       "      <th>1</th>\n",
       "      <td>t3_16xsk8j</td>\n",
       "      <td>t3_16zmeyr</td>\n",
       "      <td>0.666123</td>\n",
       "    </tr>\n",
       "    <tr>\n",
       "      <th>2</th>\n",
       "      <td>t3_16xsk8j</td>\n",
       "      <td>t3_170s7w6</td>\n",
       "      <td>0.768902</td>\n",
       "    </tr>\n",
       "  </tbody>\n",
       "</table>\n",
       "</div>"
      ],
      "text/plain": [
       "          id1         id2  distance\n",
       "0  t3_16xsk8j  t3_16xz9ex  0.724973\n",
       "1  t3_16xsk8j  t3_16zmeyr  0.666123\n",
       "2  t3_16xsk8j  t3_170s7w6  0.768902"
      ]
     },
     "execution_count": 196,
     "metadata": {},
     "output_type": "execute_result"
    }
   ],
   "source": [
    "all_pairs_by_and_distance.head(3)"
   ]
  },
  {
   "cell_type": "markdown",
   "id": "a32b39cb",
   "metadata": {},
   "source": [
    "#### save point - all pairs with distance"
   ]
  },
  {
   "cell_type": "code",
   "execution_count": 197,
   "id": "bdc1aa0e",
   "metadata": {},
   "outputs": [],
   "source": [
    "with open('all_pairs_by_and_distance.pickle', 'wb') as f:\n",
    "    pickle.dump(all_pairs_by_and_distance, f)"
   ]
  },
  {
   "cell_type": "code",
   "execution_count": 1,
   "id": "367f9a0b",
   "metadata": {},
   "outputs": [],
   "source": [
    "import pickle\n",
    "with open('all_pairs_by_and_distance.pickle', 'rb') as f:\n",
    "    all_pairs_by_and_distance = pickle.load(f)"
   ]
  },
  {
   "cell_type": "markdown",
   "id": "a2b9fade",
   "metadata": {},
   "source": [
    "#### load all nodes (comments)"
   ]
  },
  {
   "cell_type": "code",
   "execution_count": 198,
   "id": "cb5a9ed3",
   "metadata": {},
   "outputs": [],
   "source": [
    "with open('nodes_as_comments.pickle', 'rb') as f:\n",
    "    nodes_as_comments = pickle.load(f)"
   ]
  },
  {
   "cell_type": "code",
   "execution_count": 199,
   "id": "d95ec5fd",
   "metadata": {},
   "outputs": [
    {
     "data": {
      "text/plain": [
       "((189355530, 3), (19461, 2))"
      ]
     },
     "execution_count": 199,
     "metadata": {},
     "output_type": "execute_result"
    }
   ],
   "source": [
    "all_pairs_by_and_distance.shape, nodes_as_comments.shape"
   ]
  },
  {
   "cell_type": "code",
   "execution_count": 200,
   "id": "127de03a",
   "metadata": {},
   "outputs": [
    {
     "data": {
      "text/html": [
       "<div>\n",
       "<style scoped>\n",
       "    .dataframe tbody tr th:only-of-type {\n",
       "        vertical-align: middle;\n",
       "    }\n",
       "\n",
       "    .dataframe tbody tr th {\n",
       "        vertical-align: top;\n",
       "    }\n",
       "\n",
       "    .dataframe thead th {\n",
       "        text-align: right;\n",
       "    }\n",
       "</style>\n",
       "<table border=\"1\" class=\"dataframe\">\n",
       "  <thead>\n",
       "    <tr style=\"text-align: right;\">\n",
       "      <th></th>\n",
       "      <th>id1</th>\n",
       "      <th>id2</th>\n",
       "      <th>distance</th>\n",
       "    </tr>\n",
       "  </thead>\n",
       "  <tbody>\n",
       "    <tr>\n",
       "      <th>0</th>\n",
       "      <td>t3_16xsk8j</td>\n",
       "      <td>t3_16xz9ex</td>\n",
       "      <td>0.724973</td>\n",
       "    </tr>\n",
       "    <tr>\n",
       "      <th>1</th>\n",
       "      <td>t3_16xsk8j</td>\n",
       "      <td>t3_16zmeyr</td>\n",
       "      <td>0.666123</td>\n",
       "    </tr>\n",
       "  </tbody>\n",
       "</table>\n",
       "</div>"
      ],
      "text/plain": [
       "          id1         id2  distance\n",
       "0  t3_16xsk8j  t3_16xz9ex  0.724973\n",
       "1  t3_16xsk8j  t3_16zmeyr  0.666123"
      ]
     },
     "execution_count": 200,
     "metadata": {},
     "output_type": "execute_result"
    }
   ],
   "source": [
    "all_pairs_by_and_distance.head(2)"
   ]
  },
  {
   "cell_type": "code",
   "execution_count": 201,
   "id": "5cc1ef51",
   "metadata": {},
   "outputs": [
    {
     "data": {
      "text/html": [
       "<div>\n",
       "<style scoped>\n",
       "    .dataframe tbody tr th:only-of-type {\n",
       "        vertical-align: middle;\n",
       "    }\n",
       "\n",
       "    .dataframe tbody tr th {\n",
       "        vertical-align: top;\n",
       "    }\n",
       "\n",
       "    .dataframe thead th {\n",
       "        text-align: right;\n",
       "    }\n",
       "</style>\n",
       "<table border=\"1\" class=\"dataframe\">\n",
       "  <thead>\n",
       "    <tr style=\"text-align: right;\">\n",
       "      <th></th>\n",
       "      <th>id</th>\n",
       "      <th>timestamp</th>\n",
       "    </tr>\n",
       "  </thead>\n",
       "  <tbody>\n",
       "    <tr>\n",
       "      <th>4</th>\n",
       "      <td>t3_16xsk8j</td>\n",
       "      <td>2023-10-02 12:59:31</td>\n",
       "    </tr>\n",
       "    <tr>\n",
       "      <th>5</th>\n",
       "      <td>t3_16xz9ex</td>\n",
       "      <td>2023-10-02 18:13:24</td>\n",
       "    </tr>\n",
       "  </tbody>\n",
       "</table>\n",
       "</div>"
      ],
      "text/plain": [
       "           id           timestamp\n",
       "4  t3_16xsk8j 2023-10-02 12:59:31\n",
       "5  t3_16xz9ex 2023-10-02 18:13:24"
      ]
     },
     "execution_count": 201,
     "metadata": {},
     "output_type": "execute_result"
    }
   ],
   "source": [
    "nodes_as_comments.head(2)"
   ]
  },
  {
   "cell_type": "markdown",
   "id": "598786a5",
   "metadata": {},
   "source": [
    "#### add timestamp to all pairs (for ordering pairs by time)"
   ]
  },
  {
   "cell_type": "code",
   "execution_count": 202,
   "id": "e0f0affc",
   "metadata": {},
   "outputs": [],
   "source": [
    "df_merge1 = all_pairs_by_and_distance.merge(nodes_as_comments, left_on='id1', right_on='id')\n",
    "df_merge1.columns = ['id1', 'id2', 'distance', 'id', 'timestamp1']\n",
    "df_merge1.drop(columns='id', inplace=True)"
   ]
  },
  {
   "cell_type": "code",
   "execution_count": 203,
   "id": "babded6e",
   "metadata": {},
   "outputs": [],
   "source": [
    "with open('df_merge1.pickle', 'wb') as f:\n",
    "    pickle.dump(df_merge1, f)"
   ]
  },
  {
   "cell_type": "code",
   "execution_count": null,
   "id": "8ca7b5ec",
   "metadata": {},
   "outputs": [],
   "source": [
    "with open('df_merge1.pickle', 'rb') as f:\n",
    "    df_merge1 = pickle.load(f)"
   ]
  },
  {
   "cell_type": "code",
   "execution_count": 204,
   "id": "e224a179",
   "metadata": {},
   "outputs": [],
   "source": [
    "all_pairs = df_merge1.merge(nodes_as_comments, left_on='id2', right_on='id')\n",
    "all_pairs.columns = ['id1', 'id2', 'distance', 'timestamp1', 'id', 'timestamp2']\n",
    "all_pairs.drop(columns='id', inplace=True)"
   ]
  },
  {
   "cell_type": "code",
   "execution_count": 206,
   "id": "b737e40a",
   "metadata": {},
   "outputs": [
    {
     "data": {
      "text/html": [
       "<div>\n",
       "<style scoped>\n",
       "    .dataframe tbody tr th:only-of-type {\n",
       "        vertical-align: middle;\n",
       "    }\n",
       "\n",
       "    .dataframe tbody tr th {\n",
       "        vertical-align: top;\n",
       "    }\n",
       "\n",
       "    .dataframe thead th {\n",
       "        text-align: right;\n",
       "    }\n",
       "</style>\n",
       "<table border=\"1\" class=\"dataframe\">\n",
       "  <thead>\n",
       "    <tr style=\"text-align: right;\">\n",
       "      <th></th>\n",
       "      <th>id1</th>\n",
       "      <th>id2</th>\n",
       "      <th>distance</th>\n",
       "      <th>timestamp1</th>\n",
       "      <th>timestamp2</th>\n",
       "    </tr>\n",
       "  </thead>\n",
       "  <tbody>\n",
       "    <tr>\n",
       "      <th>0</th>\n",
       "      <td>t3_16xsk8j</td>\n",
       "      <td>t3_16xz9ex</td>\n",
       "      <td>0.724973</td>\n",
       "      <td>2023-10-02 12:59:31</td>\n",
       "      <td>2023-10-02 18:13:24</td>\n",
       "    </tr>\n",
       "    <tr>\n",
       "      <th>1</th>\n",
       "      <td>t3_16xsk8j</td>\n",
       "      <td>t3_16zmeyr</td>\n",
       "      <td>0.666123</td>\n",
       "      <td>2023-10-02 12:59:31</td>\n",
       "      <td>2023-10-04 15:51:13</td>\n",
       "    </tr>\n",
       "  </tbody>\n",
       "</table>\n",
       "</div>"
      ],
      "text/plain": [
       "          id1         id2  distance          timestamp1          timestamp2\n",
       "0  t3_16xsk8j  t3_16xz9ex  0.724973 2023-10-02 12:59:31 2023-10-02 18:13:24\n",
       "1  t3_16xsk8j  t3_16zmeyr  0.666123 2023-10-02 12:59:31 2023-10-04 15:51:13"
      ]
     },
     "execution_count": 206,
     "metadata": {},
     "output_type": "execute_result"
    }
   ],
   "source": [
    "all_pairs.head(2)"
   ]
  },
  {
   "cell_type": "markdown",
   "id": "863c31a4",
   "metadata": {},
   "source": [
    "#### save all pairs with timestamp"
   ]
  },
  {
   "cell_type": "code",
   "execution_count": 207,
   "id": "05acc80d",
   "metadata": {},
   "outputs": [],
   "source": [
    "with open('all_pairs_by_and_distance_and_dates.pickle', 'wb') as f:\n",
    "    pickle.dump(all_pairs, f)"
   ]
  },
  {
   "cell_type": "code",
   "execution_count": 1,
   "id": "32d6408e",
   "metadata": {},
   "outputs": [],
   "source": [
    "import pickle\n",
    "with open('all_pairs_by_and_distance_and_dates.pickle', 'rb') as f:\n",
    "    all_pairs = pickle.load(f)"
   ]
  },
  {
   "cell_type": "code",
   "execution_count": 2,
   "id": "b011775d",
   "metadata": {},
   "outputs": [
    {
     "data": {
      "text/html": [
       "<div>\n",
       "<style scoped>\n",
       "    .dataframe tbody tr th:only-of-type {\n",
       "        vertical-align: middle;\n",
       "    }\n",
       "\n",
       "    .dataframe tbody tr th {\n",
       "        vertical-align: top;\n",
       "    }\n",
       "\n",
       "    .dataframe thead th {\n",
       "        text-align: right;\n",
       "    }\n",
       "</style>\n",
       "<table border=\"1\" class=\"dataframe\">\n",
       "  <thead>\n",
       "    <tr style=\"text-align: right;\">\n",
       "      <th></th>\n",
       "      <th>id1</th>\n",
       "      <th>id2</th>\n",
       "      <th>distance</th>\n",
       "      <th>timestamp1</th>\n",
       "      <th>timestamp2</th>\n",
       "    </tr>\n",
       "  </thead>\n",
       "  <tbody>\n",
       "    <tr>\n",
       "      <th>0</th>\n",
       "      <td>t3_16xsk8j</td>\n",
       "      <td>t3_16xz9ex</td>\n",
       "      <td>0.724973</td>\n",
       "      <td>2023-10-02 12:59:31</td>\n",
       "      <td>2023-10-02 18:13:24</td>\n",
       "    </tr>\n",
       "    <tr>\n",
       "      <th>1</th>\n",
       "      <td>t3_16xsk8j</td>\n",
       "      <td>t3_16zmeyr</td>\n",
       "      <td>0.666123</td>\n",
       "      <td>2023-10-02 12:59:31</td>\n",
       "      <td>2023-10-04 15:51:13</td>\n",
       "    </tr>\n",
       "  </tbody>\n",
       "</table>\n",
       "</div>"
      ],
      "text/plain": [
       "          id1         id2  distance          timestamp1          timestamp2\n",
       "0  t3_16xsk8j  t3_16xz9ex  0.724973 2023-10-02 12:59:31 2023-10-02 18:13:24\n",
       "1  t3_16xsk8j  t3_16zmeyr  0.666123 2023-10-02 12:59:31 2023-10-04 15:51:13"
      ]
     },
     "execution_count": 2,
     "metadata": {},
     "output_type": "execute_result"
    }
   ],
   "source": [
    "all_pairs.head(2)"
   ]
  },
  {
   "cell_type": "markdown",
   "id": "702a64b6",
   "metadata": {},
   "source": [
    "### calculate clusters based on distance matrix (similar ideas)"
   ]
  },
  {
   "cell_type": "code",
   "execution_count": 258,
   "id": "af03b052",
   "metadata": {},
   "outputs": [],
   "source": [
    "import pandas as pd\n",
    "import numpy as np\n",
    "from scipy.cluster.hierarchy import linkage, fcluster\n",
    "\n",
    "def cluster_from_distance_matrix(distance_matrix: pd.DataFrame, distance_threshold: float):\n",
    "    \"\"\"\n",
    "    Clusters IDs based on the given distance matrix.\n",
    "    \n",
    "    Parameters:\n",
    "        distance_matrix (pd.DataFrame): A symmetric distance matrix where index and columns are the IDs.\n",
    "        distance_threshold (float): The maximum distance to form a cluster.\n",
    "        \n",
    "    Returns:\n",
    "        dict: Mapping of each ID to its assigned cluster.\n",
    "    \"\"\"\n",
    "    # Ensure the matrix is symmetric\n",
    "    assert (distance_matrix.values == distance_matrix.values.T).all(), \"Distance matrix must be symmetric\"\n",
    "\n",
    "    # Extract the condensed distance matrix (upper triangle, excluding diagonal)\n",
    "    condensed_distances = distance_matrix.values[np.triu_indices(len(distance_matrix), k=1)]\n",
    "\n",
    "    # Perform hierarchical clustering\n",
    "    Z = linkage(condensed_distances, method='single')  # Single linkage for minimum distance clustering\n",
    "\n",
    "    # Assign cluster labels\n",
    "    labels = fcluster(Z, distance_threshold, criterion='distance')\n",
    "\n",
    "    # Map each ID to its cluster\n",
    "    id_cluster_map = {id_: cluster for id_, cluster in zip(distance_matrix.index, labels)}\n",
    "    \n",
    "    cluster_to_id = {}\n",
    "    for key, val in id_cluster_map.items():\n",
    "        if val in cluster_to_id:\n",
    "            cluster_to_id[val].append(key)\n",
    "        else:\n",
    "            cluster_to_id[val] = [key]\n",
    "    \n",
    "    return cluster_to_id\n"
   ]
  },
  {
   "cell_type": "code",
   "execution_count": 288,
   "id": "8f62daee",
   "metadata": {},
   "outputs": [],
   "source": [
    "clusters = cluster_from_distance_matrix(df_distances, distance_threshold=0.4)"
   ]
  },
  {
   "cell_type": "markdown",
   "id": "26e3a841",
   "metadata": {},
   "source": [
    "#### display clusters sizes"
   ]
  },
  {
   "cell_type": "code",
   "execution_count": 289,
   "id": "910beef2",
   "metadata": {},
   "outputs": [
    {
     "data": {
      "text/plain": [
       "{1, 2, 3, 4, 5, 6, 7, 9, 10, 14, 18, 249}"
      ]
     },
     "execution_count": 289,
     "metadata": {},
     "output_type": "execute_result"
    }
   ],
   "source": [
    "lengths = [len(clusters[key]) for key in clusters.keys()]\n",
    "set(lengths)"
   ]
  },
  {
   "cell_type": "markdown",
   "id": "3adf59c4",
   "metadata": {},
   "source": [
    "#### focus on large groups"
   ]
  },
  {
   "cell_type": "code",
   "execution_count": 290,
   "id": "8b65b566",
   "metadata": {},
   "outputs": [
    {
     "data": {
      "text/plain": [
       "[94, 5804]"
      ]
     },
     "execution_count": 290,
     "metadata": {},
     "output_type": "execute_result"
    }
   ],
   "source": [
    "cluster_size_threshold = 20\n",
    "[key for key in clusters.keys() if len(clusters[key]) >= 18]\n",
    "# cluster number 95, are all submissions (need another way to express them in a graph. does not directly lead to users)"
   ]
  },
  {
   "cell_type": "code",
   "execution_count": 270,
   "id": "d7fb69c6",
   "metadata": {},
   "outputs": [
    {
     "data": {
      "text/plain": [
       "249"
      ]
     },
     "execution_count": 270,
     "metadata": {},
     "output_type": "execute_result"
    }
   ],
   "source": [
    "len(clusters[cluster_number])"
   ]
  },
  {
   "cell_type": "markdown",
   "id": "b64b0206",
   "metadata": {},
   "source": [
    "#### add dates to each comment in the cluster"
   ]
  },
  {
   "cell_type": "code",
   "execution_count": 373,
   "id": "51f3dec3",
   "metadata": {},
   "outputs": [],
   "source": [
    "cluster_number = 94\n",
    "timestamps_cluster= [df_embbeded_stacked[df_embbeded_stacked['id'] == ids].timestamp.values[0] for ids in clusters[cluster_number]]"
   ]
  },
  {
   "cell_type": "code",
   "execution_count": 273,
   "id": "4200654e",
   "metadata": {},
   "outputs": [],
   "source": [
    "marked_edges_df_A = df_A[['comment_id', 'comment_author','submission_author']]\n",
    "marked_edges_df_A.columns = ['id','user_A','to_user_B']\n",
    "marked_edges_df_B = df_B[['comment_id_x','comment_author_x','comment_author_y']]\n",
    "marked_edges_df_B.columns = ['id','user_A','to_user_B']\n",
    "marked_edges = pd.concat([marked_edges_df_A, marked_edges_df_B])"
   ]
  },
  {
   "cell_type": "code",
   "execution_count": 375,
   "id": "b316c406",
   "metadata": {},
   "outputs": [
    {
     "data": {
      "text/html": [
       "<div>\n",
       "<style scoped>\n",
       "    .dataframe tbody tr th:only-of-type {\n",
       "        vertical-align: middle;\n",
       "    }\n",
       "\n",
       "    .dataframe tbody tr th {\n",
       "        vertical-align: top;\n",
       "    }\n",
       "\n",
       "    .dataframe thead th {\n",
       "        text-align: right;\n",
       "    }\n",
       "</style>\n",
       "<table border=\"1\" class=\"dataframe\">\n",
       "  <thead>\n",
       "    <tr style=\"text-align: right;\">\n",
       "      <th></th>\n",
       "      <th>id</th>\n",
       "      <th>timestamp</th>\n",
       "    </tr>\n",
       "  </thead>\n",
       "  <tbody>\n",
       "    <tr>\n",
       "      <th>0</th>\n",
       "      <td>t3_1720x34</td>\n",
       "      <td>2023-10-07 11:08:16</td>\n",
       "    </tr>\n",
       "    <tr>\n",
       "      <th>1</th>\n",
       "      <td>t3_172bany</td>\n",
       "      <td>2023-10-07 20:06:59</td>\n",
       "    </tr>\n",
       "    <tr>\n",
       "      <th>2</th>\n",
       "      <td>t3_172mwp1</td>\n",
       "      <td>2023-10-08 04:39:54</td>\n",
       "    </tr>\n",
       "    <tr>\n",
       "      <th>3</th>\n",
       "      <td>t3_172q42n</td>\n",
       "      <td>2023-10-08 07:28:24</td>\n",
       "    </tr>\n",
       "    <tr>\n",
       "      <th>4</th>\n",
       "      <td>t3_172u1uo</td>\n",
       "      <td>2023-10-08 11:31:39</td>\n",
       "    </tr>\n",
       "    <tr>\n",
       "      <th>...</th>\n",
       "      <td>...</td>\n",
       "      <td>...</td>\n",
       "    </tr>\n",
       "    <tr>\n",
       "      <th>244</th>\n",
       "      <td>t3_17k3okk</td>\n",
       "      <td>2023-10-30 23:05:00</td>\n",
       "    </tr>\n",
       "    <tr>\n",
       "      <th>245</th>\n",
       "      <td>t3_17kgsf4</td>\n",
       "      <td>2023-10-31 11:11:38</td>\n",
       "    </tr>\n",
       "    <tr>\n",
       "      <th>246</th>\n",
       "      <td>t3_17kpu8c</td>\n",
       "      <td>2023-10-31 19:03:26</td>\n",
       "    </tr>\n",
       "    <tr>\n",
       "      <th>247</th>\n",
       "      <td>t3_17kpva0</td>\n",
       "      <td>2023-10-31 19:04:45</td>\n",
       "    </tr>\n",
       "    <tr>\n",
       "      <th>248</th>\n",
       "      <td>t3_17kr381</td>\n",
       "      <td>2023-10-31 19:58:36</td>\n",
       "    </tr>\n",
       "  </tbody>\n",
       "</table>\n",
       "<p>249 rows × 2 columns</p>\n",
       "</div>"
      ],
      "text/plain": [
       "             id           timestamp\n",
       "0    t3_1720x34 2023-10-07 11:08:16\n",
       "1    t3_172bany 2023-10-07 20:06:59\n",
       "2    t3_172mwp1 2023-10-08 04:39:54\n",
       "3    t3_172q42n 2023-10-08 07:28:24\n",
       "4    t3_172u1uo 2023-10-08 11:31:39\n",
       "..          ...                 ...\n",
       "244  t3_17k3okk 2023-10-30 23:05:00\n",
       "245  t3_17kgsf4 2023-10-31 11:11:38\n",
       "246  t3_17kpu8c 2023-10-31 19:03:26\n",
       "247  t3_17kpva0 2023-10-31 19:04:45\n",
       "248  t3_17kr381 2023-10-31 19:58:36\n",
       "\n",
       "[249 rows x 2 columns]"
      ]
     },
     "execution_count": 375,
     "metadata": {},
     "output_type": "execute_result"
    }
   ],
   "source": [
    "cluster = {'id':clusters[cluster_number],\n",
    "             'timestamp' : timestamps_cluster}\n",
    "pd.DataFrame(cluster)\n",
    "with open('cluster_5804.pickle', 'wb') as f:\n",
    "    pickle.dump(marked_edges[marked_edges['id'].isin(clusters[cluster_number])],f)"
   ]
  },
  {
   "cell_type": "markdown",
   "id": "bca4f9ac",
   "metadata": {},
   "source": [
    "#### check if texts are submissions (starts with \"t3\") or comments (starts with \"t1\")"
   ]
  },
  {
   "cell_type": "code",
   "execution_count": 95,
   "id": "5cc10c5c",
   "metadata": {},
   "outputs": [
    {
     "data": {
      "text/plain": [
       "0      True\n",
       "1      True\n",
       "2      True\n",
       "3      True\n",
       "4      True\n",
       "       ... \n",
       "244    True\n",
       "245    True\n",
       "246    True\n",
       "247    True\n",
       "248    True\n",
       "Name: id, Length: 249, dtype: bool"
      ]
     },
     "execution_count": 95,
     "metadata": {},
     "output_type": "execute_result"
    }
   ],
   "source": [
    "pd.DataFrame(cluster_95).id.str.startswith('t3')"
   ]
  },
  {
   "cell_type": "markdown",
   "id": "c3f5432d",
   "metadata": {},
   "source": [
    "#### display all comments of cluster 5804"
   ]
  },
  {
   "cell_type": "code",
   "execution_count": 371,
   "id": "58ab8f0b",
   "metadata": {},
   "outputs": [
    {
     "data": {
      "text/html": [
       "<div>\n",
       "<style scoped>\n",
       "    .dataframe tbody tr th:only-of-type {\n",
       "        vertical-align: middle;\n",
       "    }\n",
       "\n",
       "    .dataframe tbody tr th {\n",
       "        vertical-align: top;\n",
       "    }\n",
       "\n",
       "    .dataframe thead th {\n",
       "        text-align: right;\n",
       "    }\n",
       "</style>\n",
       "<table border=\"1\" class=\"dataframe\">\n",
       "  <thead>\n",
       "    <tr style=\"text-align: right;\">\n",
       "      <th></th>\n",
       "      <th>id</th>\n",
       "      <th>user_A</th>\n",
       "      <th>to_user_B</th>\n",
       "    </tr>\n",
       "  </thead>\n",
       "  <tbody>\n",
       "    <tr>\n",
       "      <th>15243</th>\n",
       "      <td>t1_k503olf</td>\n",
       "      <td>voyagercw1996</td>\n",
       "      <td>AchPzYlahyklk</td>\n",
       "    </tr>\n",
       "    <tr>\n",
       "      <th>38596</th>\n",
       "      <td>t1_k70kc8r</td>\n",
       "      <td>AmnesiacPatient</td>\n",
       "      <td>Goobee69</td>\n",
       "    </tr>\n",
       "    <tr>\n",
       "      <th>38598</th>\n",
       "      <td>t1_k70kddz</td>\n",
       "      <td>AmnesiacPatient</td>\n",
       "      <td>ronthegr8</td>\n",
       "    </tr>\n",
       "    <tr>\n",
       "      <th>38600</th>\n",
       "      <td>t1_k70ke7g</td>\n",
       "      <td>AmnesiacPatient</td>\n",
       "      <td>orgad</td>\n",
       "    </tr>\n",
       "    <tr>\n",
       "      <th>38601</th>\n",
       "      <td>t1_k70kft7</td>\n",
       "      <td>AmnesiacPatient</td>\n",
       "      <td>Additional_Novel_944</td>\n",
       "    </tr>\n",
       "    <tr>\n",
       "      <th>38602</th>\n",
       "      <td>t1_k70kgpr</td>\n",
       "      <td>AmnesiacPatient</td>\n",
       "      <td>Morgentau7</td>\n",
       "    </tr>\n",
       "    <tr>\n",
       "      <th>38603</th>\n",
       "      <td>t1_k70kice</td>\n",
       "      <td>AmnesiacPatient</td>\n",
       "      <td>gsitk</td>\n",
       "    </tr>\n",
       "    <tr>\n",
       "      <th>38605</th>\n",
       "      <td>t1_k70kj7o</td>\n",
       "      <td>AmnesiacPatient</td>\n",
       "      <td>avbitran</td>\n",
       "    </tr>\n",
       "    <tr>\n",
       "      <th>38606</th>\n",
       "      <td>t1_k70kk46</td>\n",
       "      <td>AmnesiacPatient</td>\n",
       "      <td>mikebenb</td>\n",
       "    </tr>\n",
       "    <tr>\n",
       "      <th>38607</th>\n",
       "      <td>t1_k70koro</td>\n",
       "      <td>AmnesiacPatient</td>\n",
       "      <td>mikebenb</td>\n",
       "    </tr>\n",
       "    <tr>\n",
       "      <th>38608</th>\n",
       "      <td>t1_k70kskk</td>\n",
       "      <td>AmnesiacPatient</td>\n",
       "      <td>HDShqip</td>\n",
       "    </tr>\n",
       "    <tr>\n",
       "      <th>44352</th>\n",
       "      <td>t1_k4t19xo</td>\n",
       "      <td>bryle_m</td>\n",
       "      <td>Afraid-Carry4093</td>\n",
       "    </tr>\n",
       "    <tr>\n",
       "      <th>59986</th>\n",
       "      <td>t1_k52xgxo</td>\n",
       "      <td>Barcode3</td>\n",
       "      <td>FreeBench</td>\n",
       "    </tr>\n",
       "    <tr>\n",
       "      <th>69885</th>\n",
       "      <td>t1_k5ar7s9</td>\n",
       "      <td>gert_van_der_whoops</td>\n",
       "      <td>Amira_Raouf</td>\n",
       "    </tr>\n",
       "    <tr>\n",
       "      <th>155505</th>\n",
       "      <td>t1_k70g4e6</td>\n",
       "      <td>AmnesiacPatient</td>\n",
       "      <td>Blitzz944</td>\n",
       "    </tr>\n",
       "    <tr>\n",
       "      <th>155705</th>\n",
       "      <td>t1_k70jqpa</td>\n",
       "      <td>AmnesiacPatient</td>\n",
       "      <td>Blitzz944</td>\n",
       "    </tr>\n",
       "    <tr>\n",
       "      <th>157890</th>\n",
       "      <td>t1_k71vwol</td>\n",
       "      <td>gert_van_der_whoops</td>\n",
       "      <td>Goobee69</td>\n",
       "    </tr>\n",
       "    <tr>\n",
       "      <th>160100</th>\n",
       "      <td>t1_k73287p</td>\n",
       "      <td>mikebenb</td>\n",
       "      <td>Lazy_Razzmatazz_4898</td>\n",
       "    </tr>\n",
       "  </tbody>\n",
       "</table>\n",
       "</div>"
      ],
      "text/plain": [
       "                id               user_A             to_user_B\n",
       "15243   t1_k503olf        voyagercw1996         AchPzYlahyklk\n",
       "38596   t1_k70kc8r      AmnesiacPatient              Goobee69\n",
       "38598   t1_k70kddz      AmnesiacPatient             ronthegr8\n",
       "38600   t1_k70ke7g      AmnesiacPatient                 orgad\n",
       "38601   t1_k70kft7      AmnesiacPatient  Additional_Novel_944\n",
       "38602   t1_k70kgpr      AmnesiacPatient            Morgentau7\n",
       "38603   t1_k70kice      AmnesiacPatient                 gsitk\n",
       "38605   t1_k70kj7o      AmnesiacPatient              avbitran\n",
       "38606   t1_k70kk46      AmnesiacPatient              mikebenb\n",
       "38607   t1_k70koro      AmnesiacPatient              mikebenb\n",
       "38608   t1_k70kskk      AmnesiacPatient               HDShqip\n",
       "44352   t1_k4t19xo              bryle_m      Afraid-Carry4093\n",
       "59986   t1_k52xgxo             Barcode3             FreeBench\n",
       "69885   t1_k5ar7s9  gert_van_der_whoops           Amira_Raouf\n",
       "155505  t1_k70g4e6      AmnesiacPatient             Blitzz944\n",
       "155705  t1_k70jqpa      AmnesiacPatient             Blitzz944\n",
       "157890  t1_k71vwol  gert_van_der_whoops              Goobee69\n",
       "160100  t1_k73287p             mikebenb  Lazy_Razzmatazz_4898"
      ]
     },
     "execution_count": 371,
     "metadata": {},
     "output_type": "execute_result"
    }
   ],
   "source": [
    "marked_edges[marked_edges['id'].isin(clusters[cluster_number])]\n",
    "# pd.DataFrame(cluster)"
   ]
  },
  {
   "cell_type": "code",
   "execution_count": null,
   "id": "74681e75",
   "metadata": {},
   "outputs": [],
   "source": []
  },
  {
   "cell_type": "code",
   "execution_count": 378,
   "id": "3e5925f9",
   "metadata": {},
   "outputs": [
    {
     "data": {
      "text/plain": [
       "array(['[removed]'], dtype=object)"
      ]
     },
     "execution_count": 378,
     "metadata": {},
     "output_type": "execute_result"
    }
   ],
   "source": [
    "ids = 't3_17kgsf4'\n",
    "get_text_by_id(ids)"
   ]
  },
  {
   "cell_type": "code",
   "execution_count": 362,
   "id": "46566db0",
   "metadata": {},
   "outputs": [
    {
     "data": {
      "text/plain": [
       "Index(['submission_id', 'submission_title', 'submission_text', 'comment_id_x',\n",
       "       'comment_text_x', 'comment_author_x', 'to_comment', 'comment_text_y',\n",
       "       'comment_author_y', 'comment_timestamp', 'len_submission_text',\n",
       "       'len_comment_text_x', 'len_comment_text_y', 'index', 'features',\n",
       "       'promote or endorse harmful stereotypes about Jewish people (e.g., controlling the media, financial systems, or governments)?',\n",
       "       'blame Jewish people collectively for societal problems, political events, or economic issues?',\n",
       "       'deny, minimize, or distort the Holocaust or other historical antisemitic events?',\n",
       "       'promote conspiracy theories that falsely portray Jewish people as a secretive, manipulative, or powerful group controlling world affairs?',\n",
       "       'use derogatory language, slurs, or dehumanizing descriptions when referring to Jewish people?',\n",
       "       'accuse Jewish people of exaggerated or false crimes, such as blood libel?',\n",
       "       'compare Jewish people or Israel to Nazis in a way intended to demonize or delegitimize?',\n",
       "       'deny Jewish people the right to self-determination or their identity as a people?',\n",
       "       'advocate for discrimination, violence, or exclusion against Jewish people?',\n",
       "       'selectively hold Jewish people or Israel to a higher standard than other groups or nations, implying inherent wrongdoing?',\n",
       "       'sum_of_antisemitism', 'vectors'],\n",
       "      dtype='object')"
      ]
     },
     "execution_count": 362,
     "metadata": {},
     "output_type": "execute_result"
    }
   ],
   "source": [
    "df_B.columns"
   ]
  },
  {
   "cell_type": "code",
   "execution_count": 359,
   "id": "d40152a8",
   "metadata": {},
   "outputs": [
    {
     "data": {
      "text/plain": [
       "Series([], Name: comment_text, dtype: object)"
      ]
     },
     "execution_count": 359,
     "metadata": {},
     "output_type": "execute_result"
    }
   ],
   "source": [
    "df_A[df_A['comment_id']=='t1_k4t19xo'].comment_text"
   ]
  },
  {
   "cell_type": "code",
   "execution_count": 369,
   "id": "7f012a47",
   "metadata": {},
   "outputs": [
    {
     "data": {
      "text/plain": [
       "'Thank you for your perspective. \\n\\nJust like you, their is a 14  year old Palestenian kid in Gaza strip feeling the same exact way. Their are many antrocities that both the IDF and Hamas have done to each side for years. Some more barbaric than others. This attack being one of them.\\n\\n Also, i know that IDF horrific actions, does not represent the Israeli people. Just like Hamas terrorists horrific actions does not represent the whole Palestinians. Their is a reason this attack is so controversial and many not feeling sorry for Israel. Its not black and white like the Russian invasion of Ukraine. The conflict between Israel and Gaza is so much more complicated.\\n\\n\\nHaving said that, their is no justification on Hamas attack on Israeli civilians. The kidnappings, torture, rape, murder and parading of dead bodies of elderly, women and kids is horric and the most barbaric unforgivable things done. \\n\\nIt is gross seeing palestian immigrants celebrating in western countries of this attack.'"
      ]
     },
     "execution_count": 369,
     "metadata": {},
     "output_type": "execute_result"
    }
   ],
   "source": [
    "df_B.columns\n",
    "df_A[df_A['comment_author']=='Afraid-Carry4093'].comment_text.iloc[1]"
   ]
  },
  {
   "cell_type": "code",
   "execution_count": 367,
   "id": "0c16dd94",
   "metadata": {},
   "outputs": [],
   "source": []
  },
  {
   "cell_type": "markdown",
   "id": "920c3b37",
   "metadata": {},
   "source": [
    "### insert timestamp aspect to edges  "
   ]
  },
  {
   "cell_type": "code",
   "execution_count": 342,
   "id": "0e7c4455",
   "metadata": {},
   "outputs": [
    {
     "name": "stdout",
     "output_type": "stream",
     "text": [
      "edges from A 42518 \n",
      "edges from B 174157\n"
     ]
    }
   ],
   "source": [
    "edges_df_A = df_A[['comment_author','submission_author','comment_timestamp']]\n",
    "edges_df_A.columns = ['user_A','to_user_B','timestamp']  \n",
    "edges_df_B = df_B[['comment_author_x','comment_author_y','comment_timestamp']]\n",
    "edges_df_B.columns = ['user_A','to_user_B','timestamp']\n",
    "print(f'edges from A {edges_df_A.shape[0]} \\nedges from B {edges_df_B.shape[0]}')\n",
    "edges = pd.concat([edges_df_A, edges_df_B])"
   ]
  },
  {
   "cell_type": "code",
   "execution_count": 347,
   "id": "a7de22e6",
   "metadata": {},
   "outputs": [],
   "source": [
    "with open('edges_with_timestamp.pickle', 'wb') as f:\n",
    "    pickle.dump(edges.sort_values(by='timestamp').groupby(['user_A','to_user_B'], as_index=False).first(), f)"
   ]
  },
  {
   "cell_type": "code",
   "execution_count": null,
   "id": "8d9f7ace",
   "metadata": {},
   "outputs": [],
   "source": []
  },
  {
   "cell_type": "code",
   "execution_count": null,
   "id": "cf230232",
   "metadata": {},
   "outputs": [],
   "source": []
  }
 ],
 "metadata": {
  "kernelspec": {
   "display_name": "LLM",
   "language": "python",
   "name": "llm"
  },
  "language_info": {
   "codemirror_mode": {
    "name": "ipython",
    "version": 3
   },
   "file_extension": ".py",
   "mimetype": "text/x-python",
   "name": "python",
   "nbconvert_exporter": "python",
   "pygments_lexer": "ipython3",
   "version": "3.10.0"
  }
 },
 "nbformat": 4,
 "nbformat_minor": 5
}
